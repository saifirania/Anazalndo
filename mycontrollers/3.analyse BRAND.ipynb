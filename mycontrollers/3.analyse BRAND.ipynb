{
 "cells": [
  {
   "cell_type": "code",
   "execution_count": 240,
   "id": "dae0471f",
   "metadata": {},
   "outputs": [],
   "source": [
    "import pandas as pd\n",
    "import os\n",
    "import json\n",
    "import re\n",
    "import plotly.express as px\n",
    "import plotly.graph_objs as go\n",
    "import plotly.graph_objects as go\n"
   ]
  },
  {
   "cell_type": "code",
   "execution_count": 113,
   "id": "20f8071f",
   "metadata": {},
   "outputs": [],
   "source": [
    "# pre processing  \n",
    "def treat_finalprice(x):\n",
    "    x = x.replace(\",\" , \".\")\n",
    "    float_regex = \"[-+]?[0-9]*\\.?[0-9]*\"\n",
    "    match = re.findall(float_regex, x)\n",
    "    if match[0] != \"\":\n",
    "        x = float(match[0])\n",
    "    return x\n",
    "\n",
    "def treating_prices(df):\n",
    "    df['finalprice'] = df['finalprice'].apply(lambda x: treat_finalprice(x))\n",
    "    df['originprice'] = df['originprice'].apply(lambda x: treat_finalprice(x))\n",
    "    return df\n",
    "\n",
    "def get_dataframe(path):\n",
    "    df = pd.read_csv('C:/Users/hp/Downloads/all_data_result_final.csv')\n",
    "    df = df[['product', 'picture','sexe','mark', 'description','finalprice', 'originprice', 'promo',]]\n",
    "    df = treating_prices(df)\n",
    "    return df"
   ]
  },
  {
   "cell_type": "code",
   "execution_count": 114,
   "id": "9c2d0e0e",
   "metadata": {},
   "outputs": [],
   "source": [
    "path = \"all_data_result_final.csv\"\n",
    "df = pd.read_csv(path)\n",
    "df = df[['product', 'picture','sexe','mark', 'description','finalprice', 'originprice', 'promo',]]"
   ]
  },
  {
   "cell_type": "code",
   "execution_count": 157,
   "id": "d5f8837a",
   "metadata": {},
   "outputs": [],
   "source": [
    "# Start managing our Data\n",
    "def select_products(df,product,sexe, mark): \n",
    "    if product == \"all\" and sexe == \"all\" and mark == \"all\":\n",
    "        df_res = df\n",
    "    elif product == \"all\":\n",
    "        df_res = df[(df['sexe'] == sexe) & (df['mark'] == mark) ]\n",
    "    elif sexe == \"all\":\n",
    "        df_res = df[(df['product'] == product) & (df['mark'] == mark) ]\n",
    "    elif mark == \"all\":\n",
    "        df_res = df[(df['product'] == product) & (df['sexe'] == sexe) ]\n",
    "        \n",
    "    elif product == \"all\" and sexe == \"all\":\n",
    "        df_res = df[(df['mark'] == mark) ]\n",
    "    elif product == \"all\" and mark == \"all\":\n",
    "        df_res = df[(df['sexe'] == sexe) ]\n",
    "        \n",
    "    elif sexe == \"all\" and mark == \"all\":\n",
    "        df_res = df[(df['product'] == product) ]\n",
    "    else :\n",
    "        df_res = df[ (df['product'] == product) & (df['sexe'] == sexe) & (df['mark'] == mark) ]\n",
    "        \n",
    "    return df_res\n",
    "\n",
    "\n"
   ]
  },
  {
   "cell_type": "code",
   "execution_count": null,
   "id": "ac0cc633-bcf2-4400-9cdc-b4b72fe6e832",
   "metadata": {},
   "outputs": [],
   "source": []
  },
  {
   "cell_type": "code",
   "execution_count": 245,
   "id": "7b86876a-9caa-456d-a089-83d8e866c684",
   "metadata": {},
   "outputs": [],
   "source": [
    "def get_Brands(selected_df,selected_rang):\n",
    "    marks_cout = selected_df.groupby([\"mark\"]).mean()\n",
    "    q_mean = marks_cout.quantile(\n",
    "        q = selected_rang,                      # The percentile to calculate\n",
    "        axis=0,                     # The axis to calculate the percentile on\n",
    "        numeric_only=True,          # To calculate only for numeric columns\n",
    "        interpolation='linear'      # The type of interpolation to use when the quantile is between 2 values\n",
    "                                )\n",
    "\n",
    "    df_res = marks_cout[marks_cout.finalprice <= q_mean.finalprice]\n",
    "    df_res = df_res.sort_values(by=['finalprice',\"originprice\",\"promo\"], ascending = False).head(5)\n",
    "    df_res.reset_index(inplace=True)\n",
    "    return df_res\n",
    "\n",
    "\n",
    "def get_best_Brands_fig(selected_df,selected_rang):\n",
    "    df_res = get_Brands(selected_df, selected_rang)\n",
    "    fig = px.histogram(\n",
    "                        df_res,\n",
    "                        x=\"mark\",\n",
    "                         y=\"promo\",\n",
    "                         color =\"mark\",\n",
    "                         template='plotly_dark',\n",
    "                         title=\"Best brands based on linear function(final price , origin price, promo ) \",\n",
    "                         labels={'mark':'Brand',\"y\": \"origin price\"}, \n",
    "                         height=600\n",
    "                      )\n",
    "    return fig\n",
    "\n",
    "\n",
    "\n",
    "\n",
    "def get_comparaison_fig(selected_df,selected_rang):\n",
    "    df_res = get_Brands(selected_df, selected_rang)\n",
    "    fig = go.Figure()\n",
    "    fig.add_trace(go.Bar(\n",
    "        x= df_res[\"mark\"],\n",
    "        y=df_res[\"originprice\"],\n",
    "        name='origin price',\n",
    "        marker_color='green'\n",
    "    ))\n",
    "    fig.add_trace(go.Bar(\n",
    "        x= df_res[\"mark\"],\n",
    "        y=df_res[\"finalprice\"],\n",
    "        name='final price',\n",
    "        marker_color='red'\n",
    "    ))\n",
    "\n",
    "    # Here we modify the tickangle of the xaxis, resulting in rotated labels.\n",
    "    fig.update_layout(\n",
    "        barmode='group', \n",
    "         template='plotly_dark',\n",
    "         title=\"Best brands prices comparaison based on linear function(final price , origin price, promo ) \",\n",
    "         height=600    \n",
    "    )\n",
    "    return fig\n",
    "\n"
   ]
  },
  {
   "cell_type": "code",
   "execution_count": null,
   "id": "f2371a99-97fd-4f7e-a05c-9a2d749607b3",
   "metadata": {},
   "outputs": [],
   "source": []
  },
  {
   "cell_type": "code",
   "execution_count": 273,
   "id": "990c88cf-5143-4ad8-bab1-7952300cf736",
   "metadata": {},
   "outputs": [],
   "source": [
    "# FONCTION 1\n",
    "# https://dash.plotly.com/dash-core-components/slider\n",
    "selected_df = select_products(df,\"short\",\"homme\", \"all\")\n",
    "selected_rang = 0.9\n",
    "\n",
    "fig1 = get_best_Brands_fig(selected_df,selected_rang)\n",
    "fig2 = get_comparaison_fig(selected_df,selected_rang)\n",
    "# fig1.show()\n",
    "# fig2.show()\n"
   ]
  },
  {
   "cell_type": "code",
   "execution_count": 325,
   "id": "b0350b23-29ab-4ca3-90ea-16bb8d31fd31",
   "metadata": {},
   "outputs": [
    {
     "data": {
      "application/vnd.plotly.v1+json": {
       "config": {
        "plotlyServerURL": "https://plot.ly"
       },
       "data": [
        {
         "domain": {
          "x": [
           0,
           1
          ],
          "y": [
           0,
           1
          ]
         },
         "hovertemplate": "mark=%{label}<br>number_products=%{value}<extra></extra>",
         "labels": [
          "AC&CO",
          "Jack",
          "Polo",
          "Next",
          "Only",
          "Seidensticker",
          "Tommy",
          "WE",
          "BOSS",
          "Denim"
         ],
         "legendgroup": "",
         "name": "",
         "showlegend": true,
         "type": "pie",
         "values": [
          103,
          90,
          61,
          58,
          55,
          53,
          50,
          42,
          39,
          39
         ]
        }
       ],
       "layout": {
        "autosize": true,
        "legend": {
         "tracegroupgap": 0
        },
        "template": {
         "data": {
          "bar": [
           {
            "error_x": {
             "color": "#2a3f5f"
            },
            "error_y": {
             "color": "#2a3f5f"
            },
            "marker": {
             "line": {
              "color": "#E5ECF6",
              "width": 0.5
             },
             "pattern": {
              "fillmode": "overlay",
              "size": 10,
              "solidity": 0.2
             }
            },
            "type": "bar"
           }
          ],
          "barpolar": [
           {
            "marker": {
             "line": {
              "color": "#E5ECF6",
              "width": 0.5
             },
             "pattern": {
              "fillmode": "overlay",
              "size": 10,
              "solidity": 0.2
             }
            },
            "type": "barpolar"
           }
          ],
          "carpet": [
           {
            "aaxis": {
             "endlinecolor": "#2a3f5f",
             "gridcolor": "white",
             "linecolor": "white",
             "minorgridcolor": "white",
             "startlinecolor": "#2a3f5f"
            },
            "baxis": {
             "endlinecolor": "#2a3f5f",
             "gridcolor": "white",
             "linecolor": "white",
             "minorgridcolor": "white",
             "startlinecolor": "#2a3f5f"
            },
            "type": "carpet"
           }
          ],
          "choropleth": [
           {
            "colorbar": {
             "outlinewidth": 0,
             "ticks": ""
            },
            "type": "choropleth"
           }
          ],
          "contour": [
           {
            "colorbar": {
             "outlinewidth": 0,
             "ticks": ""
            },
            "colorscale": [
             [
              0,
              "#0d0887"
             ],
             [
              0.1111111111111111,
              "#46039f"
             ],
             [
              0.2222222222222222,
              "#7201a8"
             ],
             [
              0.3333333333333333,
              "#9c179e"
             ],
             [
              0.4444444444444444,
              "#bd3786"
             ],
             [
              0.5555555555555556,
              "#d8576b"
             ],
             [
              0.6666666666666666,
              "#ed7953"
             ],
             [
              0.7777777777777778,
              "#fb9f3a"
             ],
             [
              0.8888888888888888,
              "#fdca26"
             ],
             [
              1,
              "#f0f921"
             ]
            ],
            "type": "contour"
           }
          ],
          "contourcarpet": [
           {
            "colorbar": {
             "outlinewidth": 0,
             "ticks": ""
            },
            "type": "contourcarpet"
           }
          ],
          "heatmap": [
           {
            "colorbar": {
             "outlinewidth": 0,
             "ticks": ""
            },
            "colorscale": [
             [
              0,
              "#0d0887"
             ],
             [
              0.1111111111111111,
              "#46039f"
             ],
             [
              0.2222222222222222,
              "#7201a8"
             ],
             [
              0.3333333333333333,
              "#9c179e"
             ],
             [
              0.4444444444444444,
              "#bd3786"
             ],
             [
              0.5555555555555556,
              "#d8576b"
             ],
             [
              0.6666666666666666,
              "#ed7953"
             ],
             [
              0.7777777777777778,
              "#fb9f3a"
             ],
             [
              0.8888888888888888,
              "#fdca26"
             ],
             [
              1,
              "#f0f921"
             ]
            ],
            "type": "heatmap"
           }
          ],
          "heatmapgl": [
           {
            "colorbar": {
             "outlinewidth": 0,
             "ticks": ""
            },
            "colorscale": [
             [
              0,
              "#0d0887"
             ],
             [
              0.1111111111111111,
              "#46039f"
             ],
             [
              0.2222222222222222,
              "#7201a8"
             ],
             [
              0.3333333333333333,
              "#9c179e"
             ],
             [
              0.4444444444444444,
              "#bd3786"
             ],
             [
              0.5555555555555556,
              "#d8576b"
             ],
             [
              0.6666666666666666,
              "#ed7953"
             ],
             [
              0.7777777777777778,
              "#fb9f3a"
             ],
             [
              0.8888888888888888,
              "#fdca26"
             ],
             [
              1,
              "#f0f921"
             ]
            ],
            "type": "heatmapgl"
           }
          ],
          "histogram": [
           {
            "marker": {
             "pattern": {
              "fillmode": "overlay",
              "size": 10,
              "solidity": 0.2
             }
            },
            "type": "histogram"
           }
          ],
          "histogram2d": [
           {
            "colorbar": {
             "outlinewidth": 0,
             "ticks": ""
            },
            "colorscale": [
             [
              0,
              "#0d0887"
             ],
             [
              0.1111111111111111,
              "#46039f"
             ],
             [
              0.2222222222222222,
              "#7201a8"
             ],
             [
              0.3333333333333333,
              "#9c179e"
             ],
             [
              0.4444444444444444,
              "#bd3786"
             ],
             [
              0.5555555555555556,
              "#d8576b"
             ],
             [
              0.6666666666666666,
              "#ed7953"
             ],
             [
              0.7777777777777778,
              "#fb9f3a"
             ],
             [
              0.8888888888888888,
              "#fdca26"
             ],
             [
              1,
              "#f0f921"
             ]
            ],
            "type": "histogram2d"
           }
          ],
          "histogram2dcontour": [
           {
            "colorbar": {
             "outlinewidth": 0,
             "ticks": ""
            },
            "colorscale": [
             [
              0,
              "#0d0887"
             ],
             [
              0.1111111111111111,
              "#46039f"
             ],
             [
              0.2222222222222222,
              "#7201a8"
             ],
             [
              0.3333333333333333,
              "#9c179e"
             ],
             [
              0.4444444444444444,
              "#bd3786"
             ],
             [
              0.5555555555555556,
              "#d8576b"
             ],
             [
              0.6666666666666666,
              "#ed7953"
             ],
             [
              0.7777777777777778,
              "#fb9f3a"
             ],
             [
              0.8888888888888888,
              "#fdca26"
             ],
             [
              1,
              "#f0f921"
             ]
            ],
            "type": "histogram2dcontour"
           }
          ],
          "mesh3d": [
           {
            "colorbar": {
             "outlinewidth": 0,
             "ticks": ""
            },
            "type": "mesh3d"
           }
          ],
          "parcoords": [
           {
            "line": {
             "colorbar": {
              "outlinewidth": 0,
              "ticks": ""
             }
            },
            "type": "parcoords"
           }
          ],
          "pie": [
           {
            "automargin": true,
            "type": "pie"
           }
          ],
          "scatter": [
           {
            "fillpattern": {
             "fillmode": "overlay",
             "size": 10,
             "solidity": 0.2
            },
            "type": "scatter"
           }
          ],
          "scatter3d": [
           {
            "line": {
             "colorbar": {
              "outlinewidth": 0,
              "ticks": ""
             }
            },
            "marker": {
             "colorbar": {
              "outlinewidth": 0,
              "ticks": ""
             }
            },
            "type": "scatter3d"
           }
          ],
          "scattercarpet": [
           {
            "marker": {
             "colorbar": {
              "outlinewidth": 0,
              "ticks": ""
             }
            },
            "type": "scattercarpet"
           }
          ],
          "scattergeo": [
           {
            "marker": {
             "colorbar": {
              "outlinewidth": 0,
              "ticks": ""
             }
            },
            "type": "scattergeo"
           }
          ],
          "scattergl": [
           {
            "marker": {
             "colorbar": {
              "outlinewidth": 0,
              "ticks": ""
             }
            },
            "type": "scattergl"
           }
          ],
          "scattermapbox": [
           {
            "marker": {
             "colorbar": {
              "outlinewidth": 0,
              "ticks": ""
             }
            },
            "type": "scattermapbox"
           }
          ],
          "scatterpolar": [
           {
            "marker": {
             "colorbar": {
              "outlinewidth": 0,
              "ticks": ""
             }
            },
            "type": "scatterpolar"
           }
          ],
          "scatterpolargl": [
           {
            "marker": {
             "colorbar": {
              "outlinewidth": 0,
              "ticks": ""
             }
            },
            "type": "scatterpolargl"
           }
          ],
          "scatterternary": [
           {
            "marker": {
             "colorbar": {
              "outlinewidth": 0,
              "ticks": ""
             }
            },
            "type": "scatterternary"
           }
          ],
          "surface": [
           {
            "colorbar": {
             "outlinewidth": 0,
             "ticks": ""
            },
            "colorscale": [
             [
              0,
              "#0d0887"
             ],
             [
              0.1111111111111111,
              "#46039f"
             ],
             [
              0.2222222222222222,
              "#7201a8"
             ],
             [
              0.3333333333333333,
              "#9c179e"
             ],
             [
              0.4444444444444444,
              "#bd3786"
             ],
             [
              0.5555555555555556,
              "#d8576b"
             ],
             [
              0.6666666666666666,
              "#ed7953"
             ],
             [
              0.7777777777777778,
              "#fb9f3a"
             ],
             [
              0.8888888888888888,
              "#fdca26"
             ],
             [
              1,
              "#f0f921"
             ]
            ],
            "type": "surface"
           }
          ],
          "table": [
           {
            "cells": {
             "fill": {
              "color": "#EBF0F8"
             },
             "line": {
              "color": "white"
             }
            },
            "header": {
             "fill": {
              "color": "#C8D4E3"
             },
             "line": {
              "color": "white"
             }
            },
            "type": "table"
           }
          ]
         },
         "layout": {
          "annotationdefaults": {
           "arrowcolor": "#2a3f5f",
           "arrowhead": 0,
           "arrowwidth": 1
          },
          "autotypenumbers": "strict",
          "coloraxis": {
           "colorbar": {
            "outlinewidth": 0,
            "ticks": ""
           }
          },
          "colorscale": {
           "diverging": [
            [
             0,
             "#8e0152"
            ],
            [
             0.1,
             "#c51b7d"
            ],
            [
             0.2,
             "#de77ae"
            ],
            [
             0.3,
             "#f1b6da"
            ],
            [
             0.4,
             "#fde0ef"
            ],
            [
             0.5,
             "#f7f7f7"
            ],
            [
             0.6,
             "#e6f5d0"
            ],
            [
             0.7,
             "#b8e186"
            ],
            [
             0.8,
             "#7fbc41"
            ],
            [
             0.9,
             "#4d9221"
            ],
            [
             1,
             "#276419"
            ]
           ],
           "sequential": [
            [
             0,
             "#0d0887"
            ],
            [
             0.1111111111111111,
             "#46039f"
            ],
            [
             0.2222222222222222,
             "#7201a8"
            ],
            [
             0.3333333333333333,
             "#9c179e"
            ],
            [
             0.4444444444444444,
             "#bd3786"
            ],
            [
             0.5555555555555556,
             "#d8576b"
            ],
            [
             0.6666666666666666,
             "#ed7953"
            ],
            [
             0.7777777777777778,
             "#fb9f3a"
            ],
            [
             0.8888888888888888,
             "#fdca26"
            ],
            [
             1,
             "#f0f921"
            ]
           ],
           "sequentialminus": [
            [
             0,
             "#0d0887"
            ],
            [
             0.1111111111111111,
             "#46039f"
            ],
            [
             0.2222222222222222,
             "#7201a8"
            ],
            [
             0.3333333333333333,
             "#9c179e"
            ],
            [
             0.4444444444444444,
             "#bd3786"
            ],
            [
             0.5555555555555556,
             "#d8576b"
            ],
            [
             0.6666666666666666,
             "#ed7953"
            ],
            [
             0.7777777777777778,
             "#fb9f3a"
            ],
            [
             0.8888888888888888,
             "#fdca26"
            ],
            [
             1,
             "#f0f921"
            ]
           ]
          },
          "colorway": [
           "#636efa",
           "#EF553B",
           "#00cc96",
           "#ab63fa",
           "#FFA15A",
           "#19d3f3",
           "#FF6692",
           "#B6E880",
           "#FF97FF",
           "#FECB52"
          ],
          "font": {
           "color": "#2a3f5f"
          },
          "geo": {
           "bgcolor": "white",
           "lakecolor": "white",
           "landcolor": "#E5ECF6",
           "showlakes": true,
           "showland": true,
           "subunitcolor": "white"
          },
          "hoverlabel": {
           "align": "left"
          },
          "hovermode": "closest",
          "mapbox": {
           "style": "light"
          },
          "paper_bgcolor": "white",
          "plot_bgcolor": "#E5ECF6",
          "polar": {
           "angularaxis": {
            "gridcolor": "white",
            "linecolor": "white",
            "ticks": ""
           },
           "bgcolor": "#E5ECF6",
           "radialaxis": {
            "gridcolor": "white",
            "linecolor": "white",
            "ticks": ""
           }
          },
          "scene": {
           "xaxis": {
            "backgroundcolor": "#E5ECF6",
            "gridcolor": "white",
            "gridwidth": 2,
            "linecolor": "white",
            "showbackground": true,
            "ticks": "",
            "zerolinecolor": "white"
           },
           "yaxis": {
            "backgroundcolor": "#E5ECF6",
            "gridcolor": "white",
            "gridwidth": 2,
            "linecolor": "white",
            "showbackground": true,
            "ticks": "",
            "zerolinecolor": "white"
           },
           "zaxis": {
            "backgroundcolor": "#E5ECF6",
            "gridcolor": "white",
            "gridwidth": 2,
            "linecolor": "white",
            "showbackground": true,
            "ticks": "",
            "zerolinecolor": "white"
           }
          },
          "shapedefaults": {
           "line": {
            "color": "#2a3f5f"
           }
          },
          "ternary": {
           "aaxis": {
            "gridcolor": "white",
            "linecolor": "white",
            "ticks": ""
           },
           "baxis": {
            "gridcolor": "white",
            "linecolor": "white",
            "ticks": ""
           },
           "bgcolor": "#E5ECF6",
           "caxis": {
            "gridcolor": "white",
            "linecolor": "white",
            "ticks": ""
           }
          },
          "title": {
           "x": 0.05
          },
          "xaxis": {
           "automargin": true,
           "gridcolor": "white",
           "linecolor": "white",
           "ticks": "",
           "title": {
            "standoff": 15
           },
           "zerolinecolor": "white",
           "zerolinewidth": 2
          },
          "yaxis": {
           "automargin": true,
           "gridcolor": "white",
           "linecolor": "white",
           "ticks": "",
           "title": {
            "standoff": 15
           },
           "zerolinecolor": "white",
           "zerolinewidth": 2
          }
         }
        },
        "title": {
         "text": "Number products on Brand "
        }
       }
      },
      "image/png": "[encoded data removed]",
      "text/html": [
       "<div>                            <div id=\"0c140dfd-d230-4b84-93b7-e17dcf977fc9\" class=\"plotly-graph-div\" style=\"height:525px; width:100%;\"></div>            <script type=\"text/javascript\">                require([\"plotly\"], function(Plotly) {                    window.PLOTLYENV=window.PLOTLYENV || {};                                    if (document.getElementById(\"0c140dfd-d230-4b84-93b7-e17dcf977fc9\")) {                    Plotly.newPlot(                        \"0c140dfd-d230-4b84-93b7-e17dcf977fc9\",                        [{\"domain\":{\"x\":[0.0,1.0],\"y\":[0.0,1.0]},\"hovertemplate\":\"mark=%{label}<br>number_products=%{value}<extra></extra>\",\"labels\":[\"AC&CO\",\"Jack\",\"Polo\",\"Next\",\"Only\",\"Seidensticker\",\"Tommy\",\"WE\",\"BOSS\",\"Denim\"],\"legendgroup\":\"\",\"name\":\"\",\"showlegend\":true,\"values\":[103,90,61,58,55,53,50,42,39,39],\"type\":\"pie\"}],                        {\"template\":{\"data\":{\"histogram2dcontour\":[{\"type\":\"histogram2dcontour\",\"colorbar\":{\"outlinewidth\":0,\"ticks\":\"\"},\"colorscale\":[[0.0,\"#0d0887\"],[0.1111111111111111,\"#46039f\"],[0.2222222222222222,\"#7201a8\"],[0.3333333333333333,\"#9c179e\"],[0.4444444444444444,\"#bd3786\"],[0.5555555555555556,\"#d8576b\"],[0.6666666666666666,\"#ed7953\"],[0.7777777777777778,\"#fb9f3a\"],[0.8888888888888888,\"#fdca26\"],[1.0,\"#f0f921\"]]}],\"choropleth\":[{\"type\":\"choropleth\",\"colorbar\":{\"outlinewidth\":0,\"ticks\":\"\"}}],\"histogram2d\":[{\"type\":\"histogram2d\",\"colorbar\":{\"outlinewidth\":0,\"ticks\":\"\"},\"colorscale\":[[0.0,\"#0d0887\"],[0.1111111111111111,\"#46039f\"],[0.2222222222222222,\"#7201a8\"],[0.3333333333333333,\"#9c179e\"],[0.4444444444444444,\"#bd3786\"],[0.5555555555555556,\"#d8576b\"],[0.6666666666666666,\"#ed7953\"],[0.7777777777777778,\"#fb9f3a\"],[0.8888888888888888,\"#fdca26\"],[1.0,\"#f0f921\"]]}],\"heatmap\":[{\"type\":\"heatmap\",\"colorbar\":{\"outlinewidth\":0,\"ticks\":\"\"},\"colorscale\":[[0.0,\"#0d0887\"],[0.1111111111111111,\"#46039f\"],[0.2222222222222222,\"#7201a8\"],[0.3333333333333333,\"#9c179e\"],[0.4444444444444444,\"#bd3786\"],[0.5555555555555556,\"#d8576b\"],[0.6666666666666666,\"#ed7953\"],[0.7777777777777778,\"#fb9f3a\"],[0.8888888888888888,\"#fdca26\"],[1.0,\"#f0f921\"]]}],\"heatmapgl\":[{\"type\":\"heatmapgl\",\"colorbar\":{\"outlinewidth\":0,\"ticks\":\"\"},\"colorscale\":[[0.0,\"#0d0887\"],[0.1111111111111111,\"#46039f\"],[0.2222222222222222,\"#7201a8\"],[0.3333333333333333,\"#9c179e\"],[0.4444444444444444,\"#bd3786\"],[0.5555555555555556,\"#d8576b\"],[0.6666666666666666,\"#ed7953\"],[0.7777777777777778,\"#fb9f3a\"],[0.8888888888888888,\"#fdca26\"],[1.0,\"#f0f921\"]]}],\"contourcarpet\":[{\"type\":\"contourcarpet\",\"colorbar\":{\"outlinewidth\":0,\"ticks\":\"\"}}],\"contour\":[{\"type\":\"contour\",\"colorbar\":{\"outlinewidth\":0,\"ticks\":\"\"},\"colorscale\":[[0.0,\"#0d0887\"],[0.1111111111111111,\"#46039f\"],[0.2222222222222222,\"#7201a8\"],[0.3333333333333333,\"#9c179e\"],[0.4444444444444444,\"#bd3786\"],[0.5555555555555556,\"#d8576b\"],[0.6666666666666666,\"#ed7953\"],[0.7777777777777778,\"#fb9f3a\"],[0.8888888888888888,\"#fdca26\"],[1.0,\"#f0f921\"]]}],\"surface\":[{\"type\":\"surface\",\"colorbar\":{\"outlinewidth\":0,\"ticks\":\"\"},\"colorscale\":[[0.0,\"#0d0887\"],[0.1111111111111111,\"#46039f\"],[0.2222222222222222,\"#7201a8\"],[0.3333333333333333,\"#9c179e\"],[0.4444444444444444,\"#bd3786\"],[0.5555555555555556,\"#d8576b\"],[0.6666666666666666,\"#ed7953\"],[0.7777777777777778,\"#fb9f3a\"],[0.8888888888888888,\"#fdca26\"],[1.0,\"#f0f921\"]]}],\"mesh3d\":[{\"type\":\"mesh3d\",\"colorbar\":{\"outlinewidth\":0,\"ticks\":\"\"}}],\"scatter\":[{\"fillpattern\":{\"fillmode\":\"overlay\",\"size\":10,\"solidity\":0.2},\"type\":\"scatter\"}],\"parcoords\":[{\"type\":\"parcoords\",\"line\":{\"colorbar\":{\"outlinewidth\":0,\"ticks\":\"\"}}}],\"scatterpolargl\":[{\"type\":\"scatterpolargl\",\"marker\":{\"colorbar\":{\"outlinewidth\":0,\"ticks\":\"\"}}}],\"bar\":[{\"error_x\":{\"color\":\"#2a3f5f\"},\"error_y\":{\"color\":\"#2a3f5f\"},\"marker\":{\"line\":{\"color\":\"#E5ECF6\",\"width\":0.5},\"pattern\":{\"fillmode\":\"overlay\",\"size\":10,\"solidity\":0.2}},\"type\":\"bar\"}],\"scattergeo\":[{\"type\":\"scattergeo\",\"marker\":{\"colorbar\":{\"outlinewidth\":0,\"ticks\":\"\"}}}],\"scatterpolar\":[{\"type\":\"scatterpolar\",\"marker\":{\"colorbar\":{\"outlinewidth\":0,\"ticks\":\"\"}}}],\"histogram\":[{\"marker\":{\"pattern\":{\"fillmode\":\"overlay\",\"size\":10,\"solidity\":0.2}},\"type\":\"histogram\"}],\"scattergl\":[{\"type\":\"scattergl\",\"marker\":{\"colorbar\":{\"outlinewidth\":0,\"ticks\":\"\"}}}],\"scatter3d\":[{\"type\":\"scatter3d\",\"line\":{\"colorbar\":{\"outlinewidth\":0,\"ticks\":\"\"}},\"marker\":{\"colorbar\":{\"outlinewidth\":0,\"ticks\":\"\"}}}],\"scattermapbox\":[{\"type\":\"scattermapbox\",\"marker\":{\"colorbar\":{\"outlinewidth\":0,\"ticks\":\"\"}}}],\"scatterternary\":[{\"type\":\"scatterternary\",\"marker\":{\"colorbar\":{\"outlinewidth\":0,\"ticks\":\"\"}}}],\"scattercarpet\":[{\"type\":\"scattercarpet\",\"marker\":{\"colorbar\":{\"outlinewidth\":0,\"ticks\":\"\"}}}],\"carpet\":[{\"aaxis\":{\"endlinecolor\":\"#2a3f5f\",\"gridcolor\":\"white\",\"linecolor\":\"white\",\"minorgridcolor\":\"white\",\"startlinecolor\":\"#2a3f5f\"},\"baxis\":{\"endlinecolor\":\"#2a3f5f\",\"gridcolor\":\"white\",\"linecolor\":\"white\",\"minorgridcolor\":\"white\",\"startlinecolor\":\"#2a3f5f\"},\"type\":\"carpet\"}],\"table\":[{\"cells\":{\"fill\":{\"color\":\"#EBF0F8\"},\"line\":{\"color\":\"white\"}},\"header\":{\"fill\":{\"color\":\"#C8D4E3\"},\"line\":{\"color\":\"white\"}},\"type\":\"table\"}],\"barpolar\":[{\"marker\":{\"line\":{\"color\":\"#E5ECF6\",\"width\":0.5},\"pattern\":{\"fillmode\":\"overlay\",\"size\":10,\"solidity\":0.2}},\"type\":\"barpolar\"}],\"pie\":[{\"automargin\":true,\"type\":\"pie\"}]},\"layout\":{\"autotypenumbers\":\"strict\",\"colorway\":[\"#636efa\",\"#EF553B\",\"#00cc96\",\"#ab63fa\",\"#FFA15A\",\"#19d3f3\",\"#FF6692\",\"#B6E880\",\"#FF97FF\",\"#FECB52\"],\"font\":{\"color\":\"#2a3f5f\"},\"hovermode\":\"closest\",\"hoverlabel\":{\"align\":\"left\"},\"paper_bgcolor\":\"white\",\"plot_bgcolor\":\"#E5ECF6\",\"polar\":{\"bgcolor\":\"#E5ECF6\",\"angularaxis\":{\"gridcolor\":\"white\",\"linecolor\":\"white\",\"ticks\":\"\"},\"radialaxis\":{\"gridcolor\":\"white\",\"linecolor\":\"white\",\"ticks\":\"\"}},\"ternary\":{\"bgcolor\":\"#E5ECF6\",\"aaxis\":{\"gridcolor\":\"white\",\"linecolor\":\"white\",\"ticks\":\"\"},\"baxis\":{\"gridcolor\":\"white\",\"linecolor\":\"white\",\"ticks\":\"\"},\"caxis\":{\"gridcolor\":\"white\",\"linecolor\":\"white\",\"ticks\":\"\"}},\"coloraxis\":{\"colorbar\":{\"outlinewidth\":0,\"ticks\":\"\"}},\"colorscale\":{\"sequential\":[[0.0,\"#0d0887\"],[0.1111111111111111,\"#46039f\"],[0.2222222222222222,\"#7201a8\"],[0.3333333333333333,\"#9c179e\"],[0.4444444444444444,\"#bd3786\"],[0.5555555555555556,\"#d8576b\"],[0.6666666666666666,\"#ed7953\"],[0.7777777777777778,\"#fb9f3a\"],[0.8888888888888888,\"#fdca26\"],[1.0,\"#f0f921\"]],\"sequentialminus\":[[0.0,\"#0d0887\"],[0.1111111111111111,\"#46039f\"],[0.2222222222222222,\"#7201a8\"],[0.3333333333333333,\"#9c179e\"],[0.4444444444444444,\"#bd3786\"],[0.5555555555555556,\"#d8576b\"],[0.6666666666666666,\"#ed7953\"],[0.7777777777777778,\"#fb9f3a\"],[0.8888888888888888,\"#fdca26\"],[1.0,\"#f0f921\"]],\"diverging\":[[0,\"#8e0152\"],[0.1,\"#c51b7d\"],[0.2,\"#de77ae\"],[0.3,\"#f1b6da\"],[0.4,\"#fde0ef\"],[0.5,\"#f7f7f7\"],[0.6,\"#e6f5d0\"],[0.7,\"#b8e186\"],[0.8,\"#7fbc41\"],[0.9,\"#4d9221\"],[1,\"#276419\"]]},\"xaxis\":{\"gridcolor\":\"white\",\"linecolor\":\"white\",\"ticks\":\"\",\"title\":{\"standoff\":15},\"zerolinecolor\":\"white\",\"automargin\":true,\"zerolinewidth\":2},\"yaxis\":{\"gridcolor\":\"white\",\"linecolor\":\"white\",\"ticks\":\"\",\"title\":{\"standoff\":15},\"zerolinecolor\":\"white\",\"automargin\":true,\"zerolinewidth\":2},\"scene\":{\"xaxis\":{\"backgroundcolor\":\"#E5ECF6\",\"gridcolor\":\"white\",\"linecolor\":\"white\",\"showbackground\":true,\"ticks\":\"\",\"zerolinecolor\":\"white\",\"gridwidth\":2},\"yaxis\":{\"backgroundcolor\":\"#E5ECF6\",\"gridcolor\":\"white\",\"linecolor\":\"white\",\"showbackground\":true,\"ticks\":\"\",\"zerolinecolor\":\"white\",\"gridwidth\":2},\"zaxis\":{\"backgroundcolor\":\"#E5ECF6\",\"gridcolor\":\"white\",\"linecolor\":\"white\",\"showbackground\":true,\"ticks\":\"\",\"zerolinecolor\":\"white\",\"gridwidth\":2}},\"shapedefaults\":{\"line\":{\"color\":\"#2a3f5f\"}},\"annotationdefaults\":{\"arrowcolor\":\"#2a3f5f\",\"arrowhead\":0,\"arrowwidth\":1},\"geo\":{\"bgcolor\":\"white\",\"landcolor\":\"#E5ECF6\",\"subunitcolor\":\"white\",\"showland\":true,\"showlakes\":true,\"lakecolor\":\"white\"},\"title\":{\"x\":0.05},\"mapbox\":{\"style\":\"light\"}}},\"legend\":{\"tracegroupgap\":0},\"title\":{\"text\":\"Number products on Brand \"}},                        {\"responsive\": true}                    ).then(function(){\n",
       "                            \n",
       "var gd = document.getElementById('0c140dfd-d230-4b84-93b7-e17dcf977fc9');\n",
       "var x = new MutationObserver(function (mutations, observer) {{\n",
       "        var display = window.getComputedStyle(gd).display;\n",
       "        if (!display || display === 'none') {{\n",
       "            console.log([gd, 'removed!']);\n",
       "            Plotly.purge(gd);\n",
       "            observer.disconnect();\n",
       "        }}\n",
       "}});\n",
       "\n",
       "// Listen for the removal of the full notebook cells\n",
       "var notebookContainer = gd.closest('#notebook-container');\n",
       "if (notebookContainer) {{\n",
       "    x.observe(notebookContainer, {childList: true});\n",
       "}}\n",
       "\n",
       "// Listen for the clearing of the current output cell\n",
       "var outputEl = gd.closest('.output');\n",
       "if (outputEl) {{\n",
       "    x.observe(outputEl, {childList: true});\n",
       "}}\n",
       "\n",
       "                        })                };                });            </script>        </div>"
      ]
     },
     "metadata": {},
     "output_type": "display_data"
    }
   ],
   "source": [
    "# FONCTION 2\n",
    "\n",
    "def get_number_products_df (selected_df):\n",
    "    marks_count = selected_df.groupby([\"mark\"]).count()\n",
    "    marks_count.reset_index(inplace=True)\n",
    "    marks_count[\"number_products\"] =  marks_count[\"product\"]\n",
    "    marks_count = marks_count.sort_values(by='number_products', ascending = False)\n",
    "    marks_count.reset_index(inplace=True)\n",
    "    marks_count = marks_count[[\"mark\",\"number_products\"]]\n",
    "    return marks_count\n",
    "def get_number_products_fig (selected_df):\n",
    "    marks_count = get_number_products_df (selected_df)\n",
    "    fig = px.pie(marks_count.head(10), values='number_products', names='mark', title='Number products on Brand ')\n",
    "    return fig\n",
    "    \n",
    "selected_df = select_products(df,\"chemise\",\"homme\", \"all\")\n",
    "get_number_products_fig (selected_df)"
   ]
  },
  {
   "cell_type": "code",
   "execution_count": null,
   "id": "f2a926bf-e4e7-496e-ab52-b877c1d03d0a",
   "metadata": {},
   "outputs": [],
   "source": []
  },
  {
   "cell_type": "code",
   "execution_count": 303,
   "id": "dd2bf8c9-20aa-49b7-b320-2edc60072f6f",
   "metadata": {},
   "outputs": [],
   "source": [
    "\n",
    "def get_df_trendbrand(trend_brands,df,product,sexe):\n",
    "    df_res = pd.DataFrame()\n",
    "    for brand in trend_brands :\n",
    "            selected_df = select_products(df,product,sexe,brand )\n",
    "            df_res = pd.concat([df_res,selected_df])\n",
    "    return df_res\n"
   ]
  },
  {
   "cell_type": "code",
   "execution_count": null,
   "id": "3f39a8be-2159-4bf6-b309-5befd5ba2335",
   "metadata": {},
   "outputs": [],
   "source": []
  },
  {
   "cell_type": "code",
   "execution_count": 345,
   "id": "1bd63493",
   "metadata": {},
   "outputs": [
    {
     "data": {
      "application/vnd.plotly.v1+json": {
       "config": {
        "plotlyServerURL": "https://plot.ly"
       },
       "data": [
        {
         "hovertemplate": "Brand=%{x}<br>Price=%{y}<br>promo=%{marker.size}<extra></extra>",
         "legendgroup": "Kaffe",
         "marker": {
          "color": "#636efa",
          "size": [
           0,
           0,
           0,
           0,
           0,
           0,
           0,
           0,
           0,
           20,
           0,
           40,
           0,
           0,
           0,
           0,
           0,
           0,
           0,
           20,
           15,
           0,
           0,
           0,
           0,
           0,
           0,
           0,
           30,
           0,
           50,
           0,
           0,
           0,
           0,
           0,
           0,
           20,
           0,
           0,
           0,
           0,
           20,
           0,
           0,
           0,
           0,
           0,
           30,
           0,
           0,
           0,
           0,
           0,
           0,
           40,
           40,
           0,
           0,
           0,
           10,
           40,
           0,
           0,
           0,
           0,
           0,
           0,
           0,
           0,
           20,
           0,
           0,
           0,
           0,
           20,
           0,
           0,
           10,
           0,
           40,
           0,
           0,
           30,
           0,
           30,
           0,
           0,
           0,
           0,
           0,
           0,
           0,
           0,
           0,
           0,
           20,
           0,
           0,
           0,
           0,
           50,
           0,
           0,
           0,
           0,
           0,
           0,
           20,
           0,
           0,
           0,
           0,
           0,
           0,
           20,
           0,
           0,
           0,
           0,
           30,
           0,
           0,
           0,
           0,
           0,
           0,
           10,
           35,
           0,
           0,
           0,
           0,
           0,
           0,
           30,
           0,
           0,
           30,
           0,
           50,
           20
          ],
          "sizemode": "area",
          "sizeref": 0.0325,
          "symbol": "circle"
         },
         "mode": "markers",
         "name": "Kaffe",
         "orientation": "v",
         "showlegend": true,
         "type": "scatter",
         "x": [
          "Kaffe",
          "Kaffe",
          "Kaffe",
          "Kaffe",
          "Kaffe",
          "Kaffe",
          "Kaffe",
          "Kaffe",
          "Kaffe",
          "Kaffe",
          "Kaffe",
          "Kaffe",
          "Kaffe",
          "Kaffe",
          "Kaffe",
          "Kaffe",
          "Kaffe",
          "Kaffe",
          "Kaffe",
          "Kaffe",
          "Kaffe",
          "Kaffe",
          "Kaffe",
          "Kaffe",
          "Kaffe",
          "Kaffe",
          "Kaffe",
          "Kaffe",
          "Kaffe",
          "Kaffe",
          "Kaffe",
          "Kaffe",
          "Kaffe",
          "Kaffe",
          "Kaffe",
          "Kaffe",
          "Kaffe",
          "Kaffe",
          "Kaffe",
          "Kaffe",
          "Kaffe",
          "Kaffe",
          "Kaffe",
          "Kaffe",
          "Kaffe",
          "Kaffe",
          "Kaffe",
          "Kaffe",
          "Kaffe",
          "Kaffe",
          "Kaffe",
          "Kaffe",
          "Kaffe",
          "Kaffe",
          "Kaffe",
          "Kaffe",
          "Kaffe",
          "Kaffe",
          "Kaffe",
          "Kaffe",
          "Kaffe",
          "Kaffe",
          "Kaffe",
          "Kaffe",
          "Kaffe",
          "Kaffe",
          "Kaffe",
          "Kaffe",
          "Kaffe",
          "Kaffe",
          "Kaffe",
          "Kaffe",
          "Kaffe",
          "Kaffe",
          "Kaffe",
          "Kaffe",
          "Kaffe",
          "Kaffe",
          "Kaffe",
          "Kaffe",
          "Kaffe",
          "Kaffe",
          "Kaffe",
          "Kaffe",
          "Kaffe",
          "Kaffe",
          "Kaffe",
          "Kaffe",
          "Kaffe",
          "Kaffe",
          "Kaffe",
          "Kaffe",
          "Kaffe",
          "Kaffe",
          "Kaffe",
          "Kaffe",
          "Kaffe",
          "Kaffe",
          "Kaffe",
          "Kaffe",
          "Kaffe",
          "Kaffe",
          "Kaffe",
          "Kaffe",
          "Kaffe",
          "Kaffe",
          "Kaffe",
          "Kaffe",
          "Kaffe",
          "Kaffe",
          "Kaffe",
          "Kaffe",
          "Kaffe",
          "Kaffe",
          "Kaffe",
          "Kaffe",
          "Kaffe",
          "Kaffe",
          "Kaffe",
          "Kaffe",
          "Kaffe",
          "Kaffe",
          "Kaffe",
          "Kaffe",
          "Kaffe",
          "Kaffe",
          "Kaffe",
          "Kaffe",
          "Kaffe",
          "Kaffe",
          "Kaffe",
          "Kaffe",
          "Kaffe",
          "Kaffe",
          "Kaffe",
          "Kaffe",
          "Kaffe",
          "Kaffe",
          "Kaffe",
          "Kaffe",
          "Kaffe",
          "Kaffe"
         ],
         "xaxis": "x",
         "y": [
          39.95,
          31.96,
          29.95,
          27.97,
          49.95,
          34.95,
          39.95,
          27.97,
          39.95,
          47.96,
          29.98,
          29.97,
          59.95,
          31.96,
          35.97,
          49.95,
          59.95,
          34.95,
          39.95,
          31.96,
          33.95,
          31.65,
          35.96,
          79.95,
          39.95,
          31.96,
          29.95,
          39.95,
          34.97,
          39.95,
          34.98,
          29.97,
          69.95,
          29.97,
          24.98,
          39.95,
          29.95,
          31.96,
          27.97,
          44.95,
          39.95,
          79.95,
          71.96,
          34.95,
          59.95,
          35.97,
          39.95,
          69.95,
          48.95,
          29.96,
          49.95,
          39.95,
          31.96,
          59.95,
          34.97,
          23.97,
          23.97,
          59.95,
          31.96,
          23.97,
          35.95,
          35.97,
          29.85,
          29.95,
          29.95,
          39.95,
          24.47,
          34.95,
          29.97,
          44.95,
          47.96,
          29.95,
          39.95,
          39.95,
          34.95,
          23.95,
          39.98,
          49.95,
          26.95,
          29.95,
          35.97,
          29.95,
          47.97,
          55.97,
          29.95,
          27.97,
          59.95,
          63.95,
          69.95,
          39.95,
          31.96,
          24.85,
          59.95,
          27.96,
          22.48,
          34.95,
          39.96,
          27.97,
          59.95,
          29.97,
          39.95,
          19.98,
          48.97,
          31.95,
          69.95,
          31.96,
          29.97,
          49.95,
          55.96,
          39.98,
          35.97,
          79.95,
          79.95,
          31.96,
          34.95,
          47.95,
          41.97,
          29.95,
          31.96,
          31.96,
          27.97,
          34.95,
          31.96,
          39.95,
          59.95,
          59.95,
          27.97,
          26.95,
          38.97,
          34.98,
          39.95,
          35.97,
          29.95,
          59.95,
          39.98,
          31.47,
          39.95,
          31.96,
          55.97,
          39.95,
          34.98,
          23.95
         ],
         "yaxis": "y"
        },
        {
         "hovertemplate": "Brand=%{x}<br>Price=%{y}<br>promo=%{marker.size}<extra></extra>",
         "legendgroup": "Vero",
         "marker": {
          "color": "#EF553B",
          "size": [
           30,
           40,
           0,
           0,
           0,
           0,
           35,
           0,
           20,
           0,
           0,
           35,
           0,
           0,
           0,
           51,
           11,
           0,
           0,
           0,
           20,
           0,
           0,
           45,
           20,
           0,
           15,
           0,
           0,
           0,
           0,
           0,
           0,
           15,
           0,
           0,
           0,
           51,
           0,
           0,
           0,
           0,
           0,
           0,
           0,
           0,
           0,
           0,
           0,
           0,
           0,
           25,
           20,
           15,
           9,
           0,
           0,
           0,
           0,
           20,
           10,
           0,
           0,
           0,
           20,
           15,
           0,
           0,
           8,
           0,
           0,
           0,
           0,
           0,
           0,
           0,
           0,
           20,
           52,
           0,
           0,
           20,
           0,
           45,
           0,
           0,
           0,
           0,
           25,
           50,
           35,
           0,
           0,
           0,
           0,
           0,
           0,
           0,
           0,
           20,
           0,
           0,
           20,
           25,
           0,
           0,
           0,
           25,
           0,
           0,
           0,
           0,
           0,
           0,
           0,
           0,
           15,
           0,
           20,
           25,
           0,
           0,
           0
          ],
          "sizemode": "area",
          "sizeref": 0.0325,
          "symbol": "circle"
         },
         "mode": "markers",
         "name": "Vero",
         "orientation": "v",
         "showlegend": true,
         "type": "scatter",
         "x": [
          "Vero",
          "Vero",
          "Vero",
          "Vero",
          "Vero",
          "Vero",
          "Vero",
          "Vero",
          "Vero",
          "Vero",
          "Vero",
          "Vero",
          "Vero",
          "Vero",
          "Vero",
          "Vero",
          "Vero",
          "Vero",
          "Vero",
          "Vero",
          "Vero",
          "Vero",
          "Vero",
          "Vero",
          "Vero",
          "Vero",
          "Vero",
          "Vero",
          "Vero",
          "Vero",
          "Vero",
          "Vero",
          "Vero",
          "Vero",
          "Vero",
          "Vero",
          "Vero",
          "Vero",
          "Vero",
          "Vero",
          "Vero",
          "Vero",
          "Vero",
          "Vero",
          "Vero",
          "Vero",
          "Vero",
          "Vero",
          "Vero",
          "Vero",
          "Vero",
          "Vero",
          "Vero",
          "Vero",
          "Vero",
          "Vero",
          "Vero",
          "Vero",
          "Vero",
          "Vero",
          "Vero",
          "Vero",
          "Vero",
          "Vero",
          "Vero",
          "Vero",
          "Vero",
          "Vero",
          "Vero",
          "Vero",
          "Vero",
          "Vero",
          "Vero",
          "Vero",
          "Vero",
          "Vero",
          "Vero",
          "Vero",
          "Vero",
          "Vero",
          "Vero",
          "Vero",
          "Vero",
          "Vero",
          "Vero",
          "Vero",
          "Vero",
          "Vero",
          "Vero",
          "Vero",
          "Vero",
          "Vero",
          "Vero",
          "Vero",
          "Vero",
          "Vero",
          "Vero",
          "Vero",
          "Vero",
          "Vero",
          "Vero",
          "Vero",
          "Vero",
          "Vero",
          "Vero",
          "Vero",
          "Vero",
          "Vero",
          "Vero",
          "Vero",
          "Vero",
          "Vero",
          "Vero",
          "Vero",
          "Vero",
          "Vero",
          "Vero",
          "Vero",
          "Vero",
          "Vero",
          "Vero",
          "Vero",
          "Vero"
         ],
         "xaxis": "x",
         "y": [
          24.59,
          23.99,
          29.99,
          39.99,
          29.99,
          34.99,
          25.99,
          19.59,
          31.99,
          26.49,
          29.99,
          19.59,
          29.99,
          19.99,
          29.99,
          21.99,
          24.99,
          49.99,
          23.99,
          29.99,
          20.09,
          31.99,
          20.09,
          20.49,
          28.09,
          31.99,
          25.45,
          24.09,
          20.29,
          39.99,
          29.99,
          27.99,
          34.99,
          18.79,
          16.59,
          49.99,
          26.99,
          21.95,
          29.69,
          29.69,
          21.69,
          24.09,
          19.69,
          26.99,
          29.99,
          22.49,
          29.99,
          44.99,
          34.99,
          20.09,
          39.99,
          22.59,
          21.69,
          25.45,
          21.89,
          23.99,
          29.99,
          34.99,
          44.99,
          28.09,
          26.99,
          34.99,
          39.99,
          21.09,
          21.69,
          25.45,
          19.99,
          24.09,
          12.89,
          36.99,
          24.09,
          22.59,
          25.99,
          39.99,
          34.99,
          24.09,
          16.59,
          29.69,
          12.99,
          29.99,
          19.29,
          31.99,
          20.09,
          24.89,
          29.69,
          22.59,
          12.99,
          26.99,
          22.59,
          11.99,
          22.89,
          15.99,
          39.99,
          16.59,
          24.09,
          26.99,
          29.99,
          22.49,
          26.99,
          21.69,
          39.99,
          29.99,
          24.09,
          27.89,
          24.09,
          31.99,
          29.99,
          26.39,
          29.99,
          22.49,
          17.69,
          15.99,
          36.99,
          29.69,
          23.89,
          32.99,
          29.89,
          24.09,
          24.09,
          29.99,
          26.99,
          12.99,
          28.09
         ],
         "yaxis": "y"
        },
        {
         "hovertemplate": "Brand=%{x}<br>Price=%{y}<br>promo=%{marker.size}<extra></extra>",
         "legendgroup": "ONLY",
         "marker": {
          "color": "#00cc96",
          "size": [
           0,
           0,
           0,
           35,
           0,
           0,
           0,
           0,
           0,
           0,
           0,
           0,
           0,
           0,
           0,
           0,
           15,
           0,
           0,
           0,
           20,
           20,
           15,
           0,
           0,
           10,
           0,
           20,
           0,
           0,
           11,
           35,
           0,
           0,
           45,
           0,
           0,
           40,
           0,
           0,
           0,
           0,
           20,
           0,
           0,
           0,
           45,
           0,
           0,
           0,
           20,
           25,
           20,
           20,
           0,
           0,
           0,
           20,
           25,
           0,
           10,
           20,
           0,
           0,
           0,
           0,
           0,
           10,
           0,
           0,
           25,
           10,
           0,
           0,
           0,
           0,
           0,
           45,
           0,
           0,
           51,
           20,
           0,
           0,
           30,
           0,
           25,
           0,
           0,
           0,
           0,
           0,
           50,
           0,
           0,
           0,
           0,
           20,
           0,
           20,
           0,
           10,
           51,
           20,
           0,
           25,
           0,
           20,
           0,
           20,
           0,
           0,
           45
          ],
          "sizemode": "area",
          "sizeref": 0.0325,
          "symbol": "circle"
         },
         "mode": "markers",
         "name": "ONLY",
         "orientation": "v",
         "showlegend": true,
         "type": "scatter",
         "x": [
          "ONLY",
          "ONLY",
          "ONLY",
          "ONLY",
          "ONLY",
          "ONLY",
          "ONLY",
          "ONLY",
          "ONLY",
          "ONLY",
          "ONLY",
          "ONLY",
          "ONLY",
          "ONLY",
          "ONLY",
          "ONLY",
          "ONLY",
          "ONLY",
          "ONLY",
          "ONLY",
          "ONLY",
          "ONLY",
          "ONLY",
          "ONLY",
          "ONLY",
          "ONLY",
          "ONLY",
          "ONLY",
          "ONLY",
          "ONLY",
          "ONLY",
          "ONLY",
          "ONLY",
          "ONLY",
          "ONLY",
          "ONLY",
          "ONLY",
          "ONLY",
          "ONLY",
          "ONLY",
          "ONLY",
          "ONLY",
          "ONLY",
          "ONLY",
          "ONLY",
          "ONLY",
          "ONLY",
          "ONLY",
          "ONLY",
          "ONLY",
          "ONLY",
          "ONLY",
          "ONLY",
          "ONLY",
          "ONLY",
          "ONLY",
          "ONLY",
          "ONLY",
          "ONLY",
          "ONLY",
          "ONLY",
          "ONLY",
          "ONLY",
          "ONLY",
          "ONLY",
          "ONLY",
          "ONLY",
          "ONLY",
          "ONLY",
          "ONLY",
          "ONLY",
          "ONLY",
          "ONLY",
          "ONLY",
          "ONLY",
          "ONLY",
          "ONLY",
          "ONLY",
          "ONLY",
          "ONLY",
          "ONLY",
          "ONLY",
          "ONLY",
          "ONLY",
          "ONLY",
          "ONLY",
          "ONLY",
          "ONLY",
          "ONLY",
          "ONLY",
          "ONLY",
          "ONLY",
          "ONLY",
          "ONLY",
          "ONLY",
          "ONLY",
          "ONLY",
          "ONLY",
          "ONLY",
          "ONLY",
          "ONLY",
          "ONLY",
          "ONLY",
          "ONLY",
          "ONLY",
          "ONLY",
          "ONLY",
          "ONLY",
          "ONLY",
          "ONLY",
          "ONLY",
          "ONLY",
          "ONLY"
         ],
         "xaxis": "x",
         "y": [
          22.59,
          22.99,
          39.99,
          25.99,
          17.99,
          25.99,
          11.89,
          29.99,
          29.99,
          14.99,
          29.99,
          21.09,
          23.99,
          26.99,
          29.99,
          29.99,
          29.89,
          24.09,
          24.59,
          17.59,
          24.09,
          24.09,
          25.59,
          29.99,
          14.99,
          26.99,
          39.99,
          21.69,
          11.89,
          19.99,
          30.99,
          19.59,
          20.29,
          27.99,
          21.99,
          20.09,
          29.99,
          21.09,
          29.99,
          34.99,
          25.99,
          21.69,
          28.09,
          21.69,
          12.99,
          20.09,
          19.39,
          21.59,
          26.99,
          29.99,
          55.95,
          26.39,
          28.09,
          28.09,
          24.99,
          31.99,
          33.95,
          12.04,
          12.74,
          24.09,
          26.99,
          13.55,
          31.99,
          12.99,
          39.99,
          24.99,
          16.99,
          31.49,
          21.99,
          28.09,
          12.74,
          26.99,
          15.99,
          21.69,
          14.99,
          24.09,
          26.95,
          16.59,
          30.99,
          19.39,
          16.99,
          24.09,
          29.99,
          26.99,
          15.35,
          26.99,
          12.74,
          29.99,
          39.99,
          24.09,
          16.99,
          40.19,
          24.99,
          21.69,
          21.55,
          19.59,
          22.59,
          20.09,
          21.99,
          20.09,
          19.99,
          26.99,
          16.99,
          17.55,
          21.79,
          22.59,
          28.09,
          28.09,
          20.09,
          28.09,
          44.99,
          29.89,
          16.59
         ],
         "yaxis": "y"
        },
        {
         "hovertemplate": "Brand=%{x}<br>Price=%{y}<br>promo=%{marker.size}<extra></extra>",
         "legendgroup": "JDY",
         "marker": {
          "color": "#ab63fa",
          "size": [
           0,
           0,
           0,
           0,
           33,
           0,
           20,
           0,
           20,
           52,
           0,
           0,
           0,
           0,
           0,
           10,
           0,
           30,
           0,
           0,
           0,
           45,
           35,
           0,
           0,
           20,
           10,
           20,
           0,
           35,
           20,
           0,
           0,
           20,
           0,
           0,
           35,
           0,
           0,
           0,
           0,
           45,
           0,
           0,
           25,
           0,
           20,
           0,
           0,
           20,
           0,
           25,
           20,
           0,
           0,
           0,
           20,
           0,
           0,
           20,
           0,
           0,
           0,
           20,
           0,
           0,
           35,
           0,
           35,
           25,
           0,
           20,
           0,
           0,
           30,
           0,
           20,
           0,
           20,
           35,
           20,
           30,
           0,
           0,
           0,
           20,
           0,
           11,
           0,
           20,
           30,
           0,
           0
          ],
          "sizemode": "area",
          "sizeref": 0.0325,
          "symbol": "circle"
         },
         "mode": "markers",
         "name": "JDY",
         "orientation": "v",
         "showlegend": true,
         "type": "scatter",
         "x": [
          "JDY",
          "JDY",
          "JDY",
          "JDY",
          "JDY",
          "JDY",
          "JDY",
          "JDY",
          "JDY",
          "JDY",
          "JDY",
          "JDY",
          "JDY",
          "JDY",
          "JDY",
          "JDY",
          "JDY",
          "JDY",
          "JDY",
          "JDY",
          "JDY",
          "JDY",
          "JDY",
          "JDY",
          "JDY",
          "JDY",
          "JDY",
          "JDY",
          "JDY",
          "JDY",
          "JDY",
          "JDY",
          "JDY",
          "JDY",
          "JDY",
          "JDY",
          "JDY",
          "JDY",
          "JDY",
          "JDY",
          "JDY",
          "JDY",
          "JDY",
          "JDY",
          "JDY",
          "JDY",
          "JDY",
          "JDY",
          "JDY",
          "JDY",
          "JDY",
          "JDY",
          "JDY",
          "JDY",
          "JDY",
          "JDY",
          "JDY",
          "JDY",
          "JDY",
          "JDY",
          "JDY",
          "JDY",
          "JDY",
          "JDY",
          "JDY",
          "JDY",
          "JDY",
          "JDY",
          "JDY",
          "JDY",
          "JDY",
          "JDY",
          "JDY",
          "JDY",
          "JDY",
          "JDY",
          "JDY",
          "JDY",
          "JDY",
          "JDY",
          "JDY",
          "JDY",
          "JDY",
          "JDY",
          "JDY",
          "JDY",
          "JDY",
          "JDY",
          "JDY",
          "JDY",
          "JDY",
          "JDY",
          "JDY"
         ],
         "xaxis": "x",
         "y": [
          19.99,
          17.99,
          19.99,
          17.69,
          17.69,
          19.99,
          24.09,
          26.99,
          17.69,
          11.99,
          21.99,
          17.69,
          19.99,
          10.99,
          16.59,
          18,
          19.99,
          13.95,
          26.99,
          12.99,
          10.99,
          12.19,
          19.59,
          26.99,
          19.99,
          21.69,
          17.99,
          20.09,
          19.99,
          16.29,
          15.99,
          11.99,
          29.99,
          19.95,
          19.99,
          23.99,
          12.99,
          13.79,
          17.99,
          16.59,
          19.95,
          10.99,
          16.99,
          19.95,
          16.59,
          18.95,
          24.09,
          39.95,
          19.99,
          24.09,
          15.99,
          17.95,
          21.55,
          21.29,
          24.09,
          18.09,
          17.69,
          16.59,
          26.99,
          21.69,
          35.99,
          46.99,
          20.09,
          20.09,
          22.59,
          18.95,
          19.59,
          16.99,
          19.59,
          18.79,
          29.99,
          21.69,
          29.99,
          21.69,
          24.45,
          20.29,
          24.09,
          39.99,
          15.99,
          14.39,
          23.95,
          24.59,
          15.99,
          34.99,
          15.99,
          13.59,
          19.99,
          23.99,
          21.69,
          21.69,
          24.45,
          19.99,
          14.99
         ],
         "yaxis": "y"
        },
        {
         "hovertemplate": "Brand=%{x}<br>Price=%{y}<br>promo=%{marker.size}<extra></extra>",
         "legendgroup": "VILA",
         "marker": {
          "color": "#FFA15A",
          "size": [
           0,
           0,
           0,
           0,
           20,
           0,
           0,
           20,
           10,
           0,
           0,
           0,
           11,
           0,
           0,
           20,
           0,
           25,
           0,
           20,
           0,
           0,
           35,
           0,
           50,
           0,
           0,
           0,
           0,
           0,
           0,
           45,
           0,
           25,
           0,
           0,
           0,
           0,
           25,
           0,
           25,
           0,
           10,
           0,
           0,
           0,
           0,
           35,
           0,
           0,
           0,
           0,
           0,
           0,
           0,
           20,
           20,
           0,
           0,
           0,
           0,
           0,
           0,
           0,
           20,
           0,
           0,
           0,
           20,
           0,
           0,
           0,
           0,
           0,
           0,
           0,
           0,
           0,
           20,
           0,
           0,
           0,
           20,
           0,
           0,
           0
          ],
          "sizemode": "area",
          "sizeref": 0.0325,
          "symbol": "circle"
         },
         "mode": "markers",
         "name": "VILA",
         "orientation": "v",
         "showlegend": true,
         "type": "scatter",
         "x": [
          "VILA",
          "VILA",
          "VILA",
          "VILA",
          "VILA",
          "VILA",
          "VILA",
          "VILA",
          "VILA",
          "VILA",
          "VILA",
          "VILA",
          "VILA",
          "VILA",
          "VILA",
          "VILA",
          "VILA",
          "VILA",
          "VILA",
          "VILA",
          "VILA",
          "VILA",
          "VILA",
          "VILA",
          "VILA",
          "VILA",
          "VILA",
          "VILA",
          "VILA",
          "VILA",
          "VILA",
          "VILA",
          "VILA",
          "VILA",
          "VILA",
          "VILA",
          "VILA",
          "VILA",
          "VILA",
          "VILA",
          "VILA",
          "VILA",
          "VILA",
          "VILA",
          "VILA",
          "VILA",
          "VILA",
          "VILA",
          "VILA",
          "VILA",
          "VILA",
          "VILA",
          "VILA",
          "VILA",
          "VILA",
          "VILA",
          "VILA",
          "VILA",
          "VILA",
          "VILA",
          "VILA",
          "VILA",
          "VILA",
          "VILA",
          "VILA",
          "VILA",
          "VILA",
          "VILA",
          "VILA",
          "VILA",
          "VILA",
          "VILA",
          "VILA",
          "VILA",
          "VILA",
          "VILA",
          "VILA",
          "VILA",
          "VILA",
          "VILA",
          "VILA",
          "VILA",
          "VILA",
          "VILA",
          "VILA",
          "VILA"
         ],
         "xaxis": "x",
         "y": [
          27.95,
          27.95,
          31.95,
          29.99,
          18.45,
          36.99,
          47.99,
          23.95,
          35.95,
          31.95,
          29.99,
          27.95,
          23.95,
          44.99,
          27.99,
          31.95,
          39.99,
          22.55,
          24.95,
          27.95,
          39.99,
          34.99,
          24.15,
          29.99,
          19.95,
          35.95,
          34.99,
          39.99,
          59.99,
          24.85,
          31.95,
          30.45,
          21.95,
          26.35,
          39.99,
          27.99,
          41.95,
          59.99,
          26.35,
          44.95,
          26.35,
          24.95,
          35.95,
          29.99,
          39.99,
          39.99,
          27.95,
          25.95,
          31.95,
          29.75,
          27.99,
          15.95,
          15.95,
          44.99,
          29.99,
          23.95,
          19.95,
          23.95,
          21.95,
          30.45,
          27.99,
          41.99,
          19.95,
          36.99,
          31.95,
          27.95,
          26.99,
          41.99,
          23.95,
          29.99,
          39.95,
          49.99,
          39.99,
          49.99,
          37.95,
          36.99,
          39.99,
          27.95,
          23.95,
          11.95,
          26.99,
          36.99,
          27.95,
          39.99,
          39.95,
          29.99
         ],
         "yaxis": "y"
        }
       ],
       "layout": {
        "autosize": true,
        "legend": {
         "itemsizing": "constant",
         "title": {
          "text": "Brand"
         },
         "tracegroupgap": 0
        },
        "template": {
         "data": {
          "bar": [
           {
            "error_x": {
             "color": "#f2f5fa"
            },
            "error_y": {
             "color": "#f2f5fa"
            },
            "marker": {
             "line": {
              "color": "rgb(17,17,17)",
              "width": 0.5
             },
             "pattern": {
              "fillmode": "overlay",
              "size": 10,
              "solidity": 0.2
             }
            },
            "type": "bar"
           }
          ],
          "barpolar": [
           {
            "marker": {
             "line": {
              "color": "rgb(17,17,17)",
              "width": 0.5
             },
             "pattern": {
              "fillmode": "overlay",
              "size": 10,
              "solidity": 0.2
             }
            },
            "type": "barpolar"
           }
          ],
          "carpet": [
           {
            "aaxis": {
             "endlinecolor": "#A2B1C6",
             "gridcolor": "#506784",
             "linecolor": "#506784",
             "minorgridcolor": "#506784",
             "startlinecolor": "#A2B1C6"
            },
            "baxis": {
             "endlinecolor": "#A2B1C6",
             "gridcolor": "#506784",
             "linecolor": "#506784",
             "minorgridcolor": "#506784",
             "startlinecolor": "#A2B1C6"
            },
            "type": "carpet"
           }
          ],
          "choropleth": [
           {
            "colorbar": {
             "outlinewidth": 0,
             "ticks": ""
            },
            "type": "choropleth"
           }
          ],
          "contour": [
           {
            "colorbar": {
             "outlinewidth": 0,
             "ticks": ""
            },
            "colorscale": [
             [
              0,
              "#0d0887"
             ],
             [
              0.1111111111111111,
              "#46039f"
             ],
             [
              0.2222222222222222,
              "#7201a8"
             ],
             [
              0.3333333333333333,
              "#9c179e"
             ],
             [
              0.4444444444444444,
              "#bd3786"
             ],
             [
              0.5555555555555556,
              "#d8576b"
             ],
             [
              0.6666666666666666,
              "#ed7953"
             ],
             [
              0.7777777777777778,
              "#fb9f3a"
             ],
             [
              0.8888888888888888,
              "#fdca26"
             ],
             [
              1,
              "#f0f921"
             ]
            ],
            "type": "contour"
           }
          ],
          "contourcarpet": [
           {
            "colorbar": {
             "outlinewidth": 0,
             "ticks": ""
            },
            "type": "contourcarpet"
           }
          ],
          "heatmap": [
           {
            "colorbar": {
             "outlinewidth": 0,
             "ticks": ""
            },
            "colorscale": [
             [
              0,
              "#0d0887"
             ],
             [
              0.1111111111111111,
              "#46039f"
             ],
             [
              0.2222222222222222,
              "#7201a8"
             ],
             [
              0.3333333333333333,
              "#9c179e"
             ],
             [
              0.4444444444444444,
              "#bd3786"
             ],
             [
              0.5555555555555556,
              "#d8576b"
             ],
             [
              0.6666666666666666,
              "#ed7953"
             ],
             [
              0.7777777777777778,
              "#fb9f3a"
             ],
             [
              0.8888888888888888,
              "#fdca26"
             ],
             [
              1,
              "#f0f921"
             ]
            ],
            "type": "heatmap"
           }
          ],
          "heatmapgl": [
           {
            "colorbar": {
             "outlinewidth": 0,
             "ticks": ""
            },
            "colorscale": [
             [
              0,
              "#0d0887"
             ],
             [
              0.1111111111111111,
              "#46039f"
             ],
             [
              0.2222222222222222,
              "#7201a8"
             ],
             [
              0.3333333333333333,
              "#9c179e"
             ],
             [
              0.4444444444444444,
              "#bd3786"
             ],
             [
              0.5555555555555556,
              "#d8576b"
             ],
             [
              0.6666666666666666,
              "#ed7953"
             ],
             [
              0.7777777777777778,
              "#fb9f3a"
             ],
             [
              0.8888888888888888,
              "#fdca26"
             ],
             [
              1,
              "#f0f921"
             ]
            ],
            "type": "heatmapgl"
           }
          ],
          "histogram": [
           {
            "marker": {
             "pattern": {
              "fillmode": "overlay",
              "size": 10,
              "solidity": 0.2
             }
            },
            "type": "histogram"
           }
          ],
          "histogram2d": [
           {
            "colorbar": {
             "outlinewidth": 0,
             "ticks": ""
            },
            "colorscale": [
             [
              0,
              "#0d0887"
             ],
             [
              0.1111111111111111,
              "#46039f"
             ],
             [
              0.2222222222222222,
              "#7201a8"
             ],
             [
              0.3333333333333333,
              "#9c179e"
             ],
             [
              0.4444444444444444,
              "#bd3786"
             ],
             [
              0.5555555555555556,
              "#d8576b"
             ],
             [
              0.6666666666666666,
              "#ed7953"
             ],
             [
              0.7777777777777778,
              "#fb9f3a"
             ],
             [
              0.8888888888888888,
              "#fdca26"
             ],
             [
              1,
              "#f0f921"
             ]
            ],
            "type": "histogram2d"
           }
          ],
          "histogram2dcontour": [
           {
            "colorbar": {
             "outlinewidth": 0,
             "ticks": ""
            },
            "colorscale": [
             [
              0,
              "#0d0887"
             ],
             [
              0.1111111111111111,
              "#46039f"
             ],
             [
              0.2222222222222222,
              "#7201a8"
             ],
             [
              0.3333333333333333,
              "#9c179e"
             ],
             [
              0.4444444444444444,
              "#bd3786"
             ],
             [
              0.5555555555555556,
              "#d8576b"
             ],
             [
              0.6666666666666666,
              "#ed7953"
             ],
             [
              0.7777777777777778,
              "#fb9f3a"
             ],
             [
              0.8888888888888888,
              "#fdca26"
             ],
             [
              1,
              "#f0f921"
             ]
            ],
            "type": "histogram2dcontour"
           }
          ],
          "mesh3d": [
           {
            "colorbar": {
             "outlinewidth": 0,
             "ticks": ""
            },
            "type": "mesh3d"
           }
          ],
          "parcoords": [
           {
            "line": {
             "colorbar": {
              "outlinewidth": 0,
              "ticks": ""
             }
            },
            "type": "parcoords"
           }
          ],
          "pie": [
           {
            "automargin": true,
            "type": "pie"
           }
          ],
          "scatter": [
           {
            "marker": {
             "line": {
              "color": "#283442"
             }
            },
            "type": "scatter"
           }
          ],
          "scatter3d": [
           {
            "line": {
             "colorbar": {
              "outlinewidth": 0,
              "ticks": ""
             }
            },
            "marker": {
             "colorbar": {
              "outlinewidth": 0,
              "ticks": ""
             }
            },
            "type": "scatter3d"
           }
          ],
          "scattercarpet": [
           {
            "marker": {
             "colorbar": {
              "outlinewidth": 0,
              "ticks": ""
             }
            },
            "type": "scattercarpet"
           }
          ],
          "scattergeo": [
           {
            "marker": {
             "colorbar": {
              "outlinewidth": 0,
              "ticks": ""
             }
            },
            "type": "scattergeo"
           }
          ],
          "scattergl": [
           {
            "marker": {
             "line": {
              "color": "#283442"
             }
            },
            "type": "scattergl"
           }
          ],
          "scattermapbox": [
           {
            "marker": {
             "colorbar": {
              "outlinewidth": 0,
              "ticks": ""
             }
            },
            "type": "scattermapbox"
           }
          ],
          "scatterpolar": [
           {
            "marker": {
             "colorbar": {
              "outlinewidth": 0,
              "ticks": ""
             }
            },
            "type": "scatterpolar"
           }
          ],
          "scatterpolargl": [
           {
            "marker": {
             "colorbar": {
              "outlinewidth": 0,
              "ticks": ""
             }
            },
            "type": "scatterpolargl"
           }
          ],
          "scatterternary": [
           {
            "marker": {
             "colorbar": {
              "outlinewidth": 0,
              "ticks": ""
             }
            },
            "type": "scatterternary"
           }
          ],
          "surface": [
           {
            "colorbar": {
             "outlinewidth": 0,
             "ticks": ""
            },
            "colorscale": [
             [
              0,
              "#0d0887"
             ],
             [
              0.1111111111111111,
              "#46039f"
             ],
             [
              0.2222222222222222,
              "#7201a8"
             ],
             [
              0.3333333333333333,
              "#9c179e"
             ],
             [
              0.4444444444444444,
              "#bd3786"
             ],
             [
              0.5555555555555556,
              "#d8576b"
             ],
             [
              0.6666666666666666,
              "#ed7953"
             ],
             [
              0.7777777777777778,
              "#fb9f3a"
             ],
             [
              0.8888888888888888,
              "#fdca26"
             ],
             [
              1,
              "#f0f921"
             ]
            ],
            "type": "surface"
           }
          ],
          "table": [
           {
            "cells": {
             "fill": {
              "color": "#506784"
             },
             "line": {
              "color": "rgb(17,17,17)"
             }
            },
            "header": {
             "fill": {
              "color": "#2a3f5f"
             },
             "line": {
              "color": "rgb(17,17,17)"
             }
            },
            "type": "table"
           }
          ]
         },
         "layout": {
          "annotationdefaults": {
           "arrowcolor": "#f2f5fa",
           "arrowhead": 0,
           "arrowwidth": 1
          },
          "autotypenumbers": "strict",
          "coloraxis": {
           "colorbar": {
            "outlinewidth": 0,
            "ticks": ""
           }
          },
          "colorscale": {
           "diverging": [
            [
             0,
             "#8e0152"
            ],
            [
             0.1,
             "#c51b7d"
            ],
            [
             0.2,
             "#de77ae"
            ],
            [
             0.3,
             "#f1b6da"
            ],
            [
             0.4,
             "#fde0ef"
            ],
            [
             0.5,
             "#f7f7f7"
            ],
            [
             0.6,
             "#e6f5d0"
            ],
            [
             0.7,
             "#b8e186"
            ],
            [
             0.8,
             "#7fbc41"
            ],
            [
             0.9,
             "#4d9221"
            ],
            [
             1,
             "#276419"
            ]
           ],
           "sequential": [
            [
             0,
             "#0d0887"
            ],
            [
             0.1111111111111111,
             "#46039f"
            ],
            [
             0.2222222222222222,
             "#7201a8"
            ],
            [
             0.3333333333333333,
             "#9c179e"
            ],
            [
             0.4444444444444444,
             "#bd3786"
            ],
            [
             0.5555555555555556,
             "#d8576b"
            ],
            [
             0.6666666666666666,
             "#ed7953"
            ],
            [
             0.7777777777777778,
             "#fb9f3a"
            ],
            [
             0.8888888888888888,
             "#fdca26"
            ],
            [
             1,
             "#f0f921"
            ]
           ],
           "sequentialminus": [
            [
             0,
             "#0d0887"
            ],
            [
             0.1111111111111111,
             "#46039f"
            ],
            [
             0.2222222222222222,
             "#7201a8"
            ],
            [
             0.3333333333333333,
             "#9c179e"
            ],
            [
             0.4444444444444444,
             "#bd3786"
            ],
            [
             0.5555555555555556,
             "#d8576b"
            ],
            [
             0.6666666666666666,
             "#ed7953"
            ],
            [
             0.7777777777777778,
             "#fb9f3a"
            ],
            [
             0.8888888888888888,
             "#fdca26"
            ],
            [
             1,
             "#f0f921"
            ]
           ]
          },
          "colorway": [
           "#636efa",
           "#EF553B",
           "#00cc96",
           "#ab63fa",
           "#FFA15A",
           "#19d3f3",
           "#FF6692",
           "#B6E880",
           "#FF97FF",
           "#FECB52"
          ],
          "font": {
           "color": "#f2f5fa"
          },
          "geo": {
           "bgcolor": "rgb(17,17,17)",
           "lakecolor": "rgb(17,17,17)",
           "landcolor": "rgb(17,17,17)",
           "showlakes": true,
           "showland": true,
           "subunitcolor": "#506784"
          },
          "hoverlabel": {
           "align": "left"
          },
          "hovermode": "closest",
          "mapbox": {
           "style": "dark"
          },
          "paper_bgcolor": "rgb(17,17,17)",
          "plot_bgcolor": "rgb(17,17,17)",
          "polar": {
           "angularaxis": {
            "gridcolor": "#506784",
            "linecolor": "#506784",
            "ticks": ""
           },
           "bgcolor": "rgb(17,17,17)",
           "radialaxis": {
            "gridcolor": "#506784",
            "linecolor": "#506784",
            "ticks": ""
           }
          },
          "scene": {
           "xaxis": {
            "backgroundcolor": "rgb(17,17,17)",
            "gridcolor": "#506784",
            "gridwidth": 2,
            "linecolor": "#506784",
            "showbackground": true,
            "ticks": "",
            "zerolinecolor": "#C8D4E3"
           },
           "yaxis": {
            "backgroundcolor": "rgb(17,17,17)",
            "gridcolor": "#506784",
            "gridwidth": 2,
            "linecolor": "#506784",
            "showbackground": true,
            "ticks": "",
            "zerolinecolor": "#C8D4E3"
           },
           "zaxis": {
            "backgroundcolor": "rgb(17,17,17)",
            "gridcolor": "#506784",
            "gridwidth": 2,
            "linecolor": "#506784",
            "showbackground": true,
            "ticks": "",
            "zerolinecolor": "#C8D4E3"
           }
          },
          "shapedefaults": {
           "line": {
            "color": "#f2f5fa"
           }
          },
          "sliderdefaults": {
           "bgcolor": "#C8D4E3",
           "bordercolor": "rgb(17,17,17)",
           "borderwidth": 1,
           "tickwidth": 0
          },
          "ternary": {
           "aaxis": {
            "gridcolor": "#506784",
            "linecolor": "#506784",
            "ticks": ""
           },
           "baxis": {
            "gridcolor": "#506784",
            "linecolor": "#506784",
            "ticks": ""
           },
           "bgcolor": "rgb(17,17,17)",
           "caxis": {
            "gridcolor": "#506784",
            "linecolor": "#506784",
            "ticks": ""
           }
          },
          "title": {
           "x": 0.05
          },
          "updatemenudefaults": {
           "bgcolor": "#506784",
           "borderwidth": 0
          },
          "xaxis": {
           "automargin": true,
           "gridcolor": "#283442",
           "linecolor": "#506784",
           "ticks": "",
           "title": {
            "standoff": 15
           },
           "zerolinecolor": "#283442",
           "zerolinewidth": 2
          },
          "yaxis": {
           "automargin": true,
           "gridcolor": "#283442",
           "linecolor": "#506784",
           "ticks": "",
           "title": {
            "standoff": 15
           },
           "zerolinecolor": "#283442",
           "zerolinewidth": 2
          }
         }
        },
        "title": {
         "text": "Analysing all brands distibution prices"
        },
        "xaxis": {
         "anchor": "y",
         "autorange": true,
         "categoryarray": [
          "Kaffe",
          "Vero",
          "ONLY",
          "JDY",
          "VILA"
         ],
         "categoryorder": "array",
         "domain": [
          0,
          1
         ],
         "range": [
          -0.5052228109704462,
          4.505222810970446
         ],
         "title": {
          "text": "Brand"
         },
         "type": "category"
        },
        "yaxis": {
         "anchor": "x",
         "autorange": true,
         "domain": [
          0,
          1
         ],
         "range": [
          0.9293502282636137,
          84.73913028919614
         ],
         "title": {
          "text": "Price"
         },
         "type": "linear"
        }
       }
      },
      "image/png": "[encoded data removed]",
      "text/html": [
       "<div>                            <div id=\"1e404142-aa7b-481b-a8e9-7f8334a85358\" class=\"plotly-graph-div\" style=\"height:600px; width:100%;\"></div>            <script type=\"text/javascript\">                require([\"plotly\"], function(Plotly) {                    window.PLOTLYENV=window.PLOTLYENV || {};                                    if (document.getElementById(\"1e404142-aa7b-481b-a8e9-7f8334a85358\")) {                    Plotly.newPlot(                        \"1e404142-aa7b-481b-a8e9-7f8334a85358\",                        [{\"hovertemplate\":\"Brand=%{x}<br>Price=%{y}<br>promo=%{marker.size}<extra></extra>\",\"legendgroup\":\"Kaffe\",\"marker\":{\"color\":\"#636efa\",\"size\":[0.0,0.0,0.0,0.0,0.0,0.0,0.0,0.0,0.0,20.0,0.0,40.0,0.0,0.0,0.0,0.0,0.0,0.0,0.0,20.0,15.0,0.0,0.0,0.0,0.0,0.0,0.0,0.0,30.0,0.0,50.0,0.0,0.0,0.0,0.0,0.0,0.0,20.0,0.0,0.0,0.0,0.0,20.0,0.0,0.0,0.0,0.0,0.0,30.0,0.0,0.0,0.0,0.0,0.0,0.0,40.0,40.0,0.0,0.0,0.0,10.0,40.0,0.0,0.0,0.0,0.0,0.0,0.0,0.0,0.0,20.0,0.0,0.0,0.0,0.0,20.0,0.0,0.0,10.0,0.0,40.0,0.0,0.0,30.0,0.0,30.0,0.0,0.0,0.0,0.0,0.0,0.0,0.0,0.0,0.0,0.0,20.0,0.0,0.0,0.0,0.0,50.0,0.0,0.0,0.0,0.0,0.0,0.0,20.0,0.0,0.0,0.0,0.0,0.0,0.0,20.0,0.0,0.0,0.0,0.0,30.0,0.0,0.0,0.0,0.0,0.0,0.0,10.0,35.0,0.0,0.0,0.0,0.0,0.0,0.0,30.0,0.0,0.0,30.0,0.0,50.0,20.0],\"sizemode\":\"area\",\"sizeref\":0.0325,\"symbol\":\"circle\"},\"mode\":\"markers\",\"name\":\"Kaffe\",\"orientation\":\"v\",\"showlegend\":true,\"x\":[\"Kaffe\",\"Kaffe\",\"Kaffe\",\"Kaffe\",\"Kaffe\",\"Kaffe\",\"Kaffe\",\"Kaffe\",\"Kaffe\",\"Kaffe\",\"Kaffe\",\"Kaffe\",\"Kaffe\",\"Kaffe\",\"Kaffe\",\"Kaffe\",\"Kaffe\",\"Kaffe\",\"Kaffe\",\"Kaffe\",\"Kaffe\",\"Kaffe\",\"Kaffe\",\"Kaffe\",\"Kaffe\",\"Kaffe\",\"Kaffe\",\"Kaffe\",\"Kaffe\",\"Kaffe\",\"Kaffe\",\"Kaffe\",\"Kaffe\",\"Kaffe\",\"Kaffe\",\"Kaffe\",\"Kaffe\",\"Kaffe\",\"Kaffe\",\"Kaffe\",\"Kaffe\",\"Kaffe\",\"Kaffe\",\"Kaffe\",\"Kaffe\",\"Kaffe\",\"Kaffe\",\"Kaffe\",\"Kaffe\",\"Kaffe\",\"Kaffe\",\"Kaffe\",\"Kaffe\",\"Kaffe\",\"Kaffe\",\"Kaffe\",\"Kaffe\",\"Kaffe\",\"Kaffe\",\"Kaffe\",\"Kaffe\",\"Kaffe\",\"Kaffe\",\"Kaffe\",\"Kaffe\",\"Kaffe\",\"Kaffe\",\"Kaffe\",\"Kaffe\",\"Kaffe\",\"Kaffe\",\"Kaffe\",\"Kaffe\",\"Kaffe\",\"Kaffe\",\"Kaffe\",\"Kaffe\",\"Kaffe\",\"Kaffe\",\"Kaffe\",\"Kaffe\",\"Kaffe\",\"Kaffe\",\"Kaffe\",\"Kaffe\",\"Kaffe\",\"Kaffe\",\"Kaffe\",\"Kaffe\",\"Kaffe\",\"Kaffe\",\"Kaffe\",\"Kaffe\",\"Kaffe\",\"Kaffe\",\"Kaffe\",\"Kaffe\",\"Kaffe\",\"Kaffe\",\"Kaffe\",\"Kaffe\",\"Kaffe\",\"Kaffe\",\"Kaffe\",\"Kaffe\",\"Kaffe\",\"Kaffe\",\"Kaffe\",\"Kaffe\",\"Kaffe\",\"Kaffe\",\"Kaffe\",\"Kaffe\",\"Kaffe\",\"Kaffe\",\"Kaffe\",\"Kaffe\",\"Kaffe\",\"Kaffe\",\"Kaffe\",\"Kaffe\",\"Kaffe\",\"Kaffe\",\"Kaffe\",\"Kaffe\",\"Kaffe\",\"Kaffe\",\"Kaffe\",\"Kaffe\",\"Kaffe\",\"Kaffe\",\"Kaffe\",\"Kaffe\",\"Kaffe\",\"Kaffe\",\"Kaffe\",\"Kaffe\",\"Kaffe\",\"Kaffe\",\"Kaffe\",\"Kaffe\",\"Kaffe\"],\"xaxis\":\"x\",\"y\":[39.95,31.96,29.95,27.97,49.95,34.95,39.95,27.97,39.95,47.96,29.98,29.97,59.95,31.96,35.97,49.95,59.95,34.95,39.95,31.96,33.95,31.65,35.96,79.95,39.95,31.96,29.95,39.95,34.97,39.95,34.98,29.97,69.95,29.97,24.98,39.95,29.95,31.96,27.97,44.95,39.95,79.95,71.96,34.95,59.95,35.97,39.95,69.95,48.95,29.96,49.95,39.95,31.96,59.95,34.97,23.97,23.97,59.95,31.96,23.97,35.95,35.97,29.85,29.95,29.95,39.95,24.47,34.95,29.97,44.95,47.96,29.95,39.95,39.95,34.95,23.95,39.98,49.95,26.95,29.95,35.97,29.95,47.97,55.97,29.95,27.97,59.95,63.95,69.95,39.95,31.96,24.85,59.95,27.96,22.48,34.95,39.96,27.97,59.95,29.97,39.95,19.98,48.97,31.95,69.95,31.96,29.97,49.95,55.96,39.98,35.97,79.95,79.95,31.96,34.95,47.95,41.97,29.95,31.96,31.96,27.97,34.95,31.96,39.95,59.95,59.95,27.97,26.95,38.97,34.98,39.95,35.97,29.95,59.95,39.98,31.47,39.95,31.96,55.97,39.95,34.98,23.95],\"yaxis\":\"y\",\"type\":\"scatter\"},{\"hovertemplate\":\"Brand=%{x}<br>Price=%{y}<br>promo=%{marker.size}<extra></extra>\",\"legendgroup\":\"Vero\",\"marker\":{\"color\":\"#EF553B\",\"size\":[30.0,40.0,0.0,0.0,0.0,0.0,35.0,0.0,20.0,0.0,0.0,35.0,0.0,0.0,0.0,51.0,11.0,0.0,0.0,0.0,20.0,0.0,0.0,45.0,20.0,0.0,15.0,0.0,0.0,0.0,0.0,0.0,0.0,15.0,0.0,0.0,0.0,51.0,0.0,0.0,0.0,0.0,0.0,0.0,0.0,0.0,0.0,0.0,0.0,0.0,0.0,25.0,20.0,15.0,9.0,0.0,0.0,0.0,0.0,20.0,10.0,0.0,0.0,0.0,20.0,15.0,0.0,0.0,8.0,0.0,0.0,0.0,0.0,0.0,0.0,0.0,0.0,20.0,52.0,0.0,0.0,20.0,0.0,45.0,0.0,0.0,0.0,0.0,25.0,50.0,35.0,0.0,0.0,0.0,0.0,0.0,0.0,0.0,0.0,20.0,0.0,0.0,20.0,25.0,0.0,0.0,0.0,25.0,0.0,0.0,0.0,0.0,0.0,0.0,0.0,0.0,15.0,0.0,20.0,25.0,0.0,0.0,0.0],\"sizemode\":\"area\",\"sizeref\":0.0325,\"symbol\":\"circle\"},\"mode\":\"markers\",\"name\":\"Vero\",\"orientation\":\"v\",\"showlegend\":true,\"x\":[\"Vero\",\"Vero\",\"Vero\",\"Vero\",\"Vero\",\"Vero\",\"Vero\",\"Vero\",\"Vero\",\"Vero\",\"Vero\",\"Vero\",\"Vero\",\"Vero\",\"Vero\",\"Vero\",\"Vero\",\"Vero\",\"Vero\",\"Vero\",\"Vero\",\"Vero\",\"Vero\",\"Vero\",\"Vero\",\"Vero\",\"Vero\",\"Vero\",\"Vero\",\"Vero\",\"Vero\",\"Vero\",\"Vero\",\"Vero\",\"Vero\",\"Vero\",\"Vero\",\"Vero\",\"Vero\",\"Vero\",\"Vero\",\"Vero\",\"Vero\",\"Vero\",\"Vero\",\"Vero\",\"Vero\",\"Vero\",\"Vero\",\"Vero\",\"Vero\",\"Vero\",\"Vero\",\"Vero\",\"Vero\",\"Vero\",\"Vero\",\"Vero\",\"Vero\",\"Vero\",\"Vero\",\"Vero\",\"Vero\",\"Vero\",\"Vero\",\"Vero\",\"Vero\",\"Vero\",\"Vero\",\"Vero\",\"Vero\",\"Vero\",\"Vero\",\"Vero\",\"Vero\",\"Vero\",\"Vero\",\"Vero\",\"Vero\",\"Vero\",\"Vero\",\"Vero\",\"Vero\",\"Vero\",\"Vero\",\"Vero\",\"Vero\",\"Vero\",\"Vero\",\"Vero\",\"Vero\",\"Vero\",\"Vero\",\"Vero\",\"Vero\",\"Vero\",\"Vero\",\"Vero\",\"Vero\",\"Vero\",\"Vero\",\"Vero\",\"Vero\",\"Vero\",\"Vero\",\"Vero\",\"Vero\",\"Vero\",\"Vero\",\"Vero\",\"Vero\",\"Vero\",\"Vero\",\"Vero\",\"Vero\",\"Vero\",\"Vero\",\"Vero\",\"Vero\",\"Vero\",\"Vero\",\"Vero\",\"Vero\"],\"xaxis\":\"x\",\"y\":[24.59,23.99,29.99,39.99,29.99,34.99,25.99,19.59,31.99,26.49,29.99,19.59,29.99,19.99,29.99,21.99,24.99,49.99,23.99,29.99,20.09,31.99,20.09,20.49,28.09,31.99,25.45,24.09,20.29,39.99,29.99,27.99,34.99,18.79,16.59,49.99,26.99,21.95,29.69,29.69,21.69,24.09,19.69,26.99,29.99,22.49,29.99,44.99,34.99,20.09,39.99,22.59,21.69,25.45,21.89,23.99,29.99,34.99,44.99,28.09,26.99,34.99,39.99,21.09,21.69,25.45,19.99,24.09,12.89,36.99,24.09,22.59,25.99,39.99,34.99,24.09,16.59,29.69,12.99,29.99,19.29,31.99,20.09,24.89,29.69,22.59,12.99,26.99,22.59,11.99,22.89,15.99,39.99,16.59,24.09,26.99,29.99,22.49,26.99,21.69,39.99,29.99,24.09,27.89,24.09,31.99,29.99,26.39,29.99,22.49,17.69,15.99,36.99,29.69,23.89,32.99,29.89,24.09,24.09,29.99,26.99,12.99,28.09],\"yaxis\":\"y\",\"type\":\"scatter\"},{\"hovertemplate\":\"Brand=%{x}<br>Price=%{y}<br>promo=%{marker.size}<extra></extra>\",\"legendgroup\":\"ONLY\",\"marker\":{\"color\":\"#00cc96\",\"size\":[0.0,0.0,0.0,35.0,0.0,0.0,0.0,0.0,0.0,0.0,0.0,0.0,0.0,0.0,0.0,0.0,15.0,0.0,0.0,0.0,20.0,20.0,15.0,0.0,0.0,10.0,0.0,20.0,0.0,0.0,11.0,35.0,0.0,0.0,45.0,0.0,0.0,40.0,0.0,0.0,0.0,0.0,20.0,0.0,0.0,0.0,45.0,0.0,0.0,0.0,20.0,25.0,20.0,20.0,0.0,0.0,0.0,20.0,25.0,0.0,10.0,20.0,0.0,0.0,0.0,0.0,0.0,10.0,0.0,0.0,25.0,10.0,0.0,0.0,0.0,0.0,0.0,45.0,0.0,0.0,51.0,20.0,0.0,0.0,30.0,0.0,25.0,0.0,0.0,0.0,0.0,0.0,50.0,0.0,0.0,0.0,0.0,20.0,0.0,20.0,0.0,10.0,51.0,20.0,0.0,25.0,0.0,20.0,0.0,20.0,0.0,0.0,45.0],\"sizemode\":\"area\",\"sizeref\":0.0325,\"symbol\":\"circle\"},\"mode\":\"markers\",\"name\":\"ONLY\",\"orientation\":\"v\",\"showlegend\":true,\"x\":[\"ONLY\",\"ONLY\",\"ONLY\",\"ONLY\",\"ONLY\",\"ONLY\",\"ONLY\",\"ONLY\",\"ONLY\",\"ONLY\",\"ONLY\",\"ONLY\",\"ONLY\",\"ONLY\",\"ONLY\",\"ONLY\",\"ONLY\",\"ONLY\",\"ONLY\",\"ONLY\",\"ONLY\",\"ONLY\",\"ONLY\",\"ONLY\",\"ONLY\",\"ONLY\",\"ONLY\",\"ONLY\",\"ONLY\",\"ONLY\",\"ONLY\",\"ONLY\",\"ONLY\",\"ONLY\",\"ONLY\",\"ONLY\",\"ONLY\",\"ONLY\",\"ONLY\",\"ONLY\",\"ONLY\",\"ONLY\",\"ONLY\",\"ONLY\",\"ONLY\",\"ONLY\",\"ONLY\",\"ONLY\",\"ONLY\",\"ONLY\",\"ONLY\",\"ONLY\",\"ONLY\",\"ONLY\",\"ONLY\",\"ONLY\",\"ONLY\",\"ONLY\",\"ONLY\",\"ONLY\",\"ONLY\",\"ONLY\",\"ONLY\",\"ONLY\",\"ONLY\",\"ONLY\",\"ONLY\",\"ONLY\",\"ONLY\",\"ONLY\",\"ONLY\",\"ONLY\",\"ONLY\",\"ONLY\",\"ONLY\",\"ONLY\",\"ONLY\",\"ONLY\",\"ONLY\",\"ONLY\",\"ONLY\",\"ONLY\",\"ONLY\",\"ONLY\",\"ONLY\",\"ONLY\",\"ONLY\",\"ONLY\",\"ONLY\",\"ONLY\",\"ONLY\",\"ONLY\",\"ONLY\",\"ONLY\",\"ONLY\",\"ONLY\",\"ONLY\",\"ONLY\",\"ONLY\",\"ONLY\",\"ONLY\",\"ONLY\",\"ONLY\",\"ONLY\",\"ONLY\",\"ONLY\",\"ONLY\",\"ONLY\",\"ONLY\",\"ONLY\",\"ONLY\",\"ONLY\",\"ONLY\"],\"xaxis\":\"x\",\"y\":[22.59,22.99,39.99,25.99,17.99,25.99,11.89,29.99,29.99,14.99,29.99,21.09,23.99,26.99,29.99,29.99,29.89,24.09,24.59,17.59,24.09,24.09,25.59,29.99,14.99,26.99,39.99,21.69,11.89,19.99,30.99,19.59,20.29,27.99,21.99,20.09,29.99,21.09,29.99,34.99,25.99,21.69,28.09,21.69,12.99,20.09,19.39,21.59,26.99,29.99,55.95,26.39,28.09,28.09,24.99,31.99,33.95,12.04,12.74,24.09,26.99,13.55,31.99,12.99,39.99,24.99,16.99,31.49,21.99,28.09,12.74,26.99,15.99,21.69,14.99,24.09,26.95,16.59,30.99,19.39,16.99,24.09,29.99,26.99,15.35,26.99,12.74,29.99,39.99,24.09,16.99,40.19,24.99,21.69,21.55,19.59,22.59,20.09,21.99,20.09,19.99,26.99,16.99,17.55,21.79,22.59,28.09,28.09,20.09,28.09,44.99,29.89,16.59],\"yaxis\":\"y\",\"type\":\"scatter\"},{\"hovertemplate\":\"Brand=%{x}<br>Price=%{y}<br>promo=%{marker.size}<extra></extra>\",\"legendgroup\":\"JDY\",\"marker\":{\"color\":\"#ab63fa\",\"size\":[0.0,0.0,0.0,0.0,33.0,0.0,20.0,0.0,20.0,52.0,0.0,0.0,0.0,0.0,0.0,10.0,0.0,30.0,0.0,0.0,0.0,45.0,35.0,0.0,0.0,20.0,10.0,20.0,0.0,35.0,20.0,0.0,0.0,20.0,0.0,0.0,35.0,0.0,0.0,0.0,0.0,45.0,0.0,0.0,25.0,0.0,20.0,0.0,0.0,20.0,0.0,25.0,20.0,0.0,0.0,0.0,20.0,0.0,0.0,20.0,0.0,0.0,0.0,20.0,0.0,0.0,35.0,0.0,35.0,25.0,0.0,20.0,0.0,0.0,30.0,0.0,20.0,0.0,20.0,35.0,20.0,30.0,0.0,0.0,0.0,20.0,0.0,11.0,0.0,20.0,30.0,0.0,0.0],\"sizemode\":\"area\",\"sizeref\":0.0325,\"symbol\":\"circle\"},\"mode\":\"markers\",\"name\":\"JDY\",\"orientation\":\"v\",\"showlegend\":true,\"x\":[\"JDY\",\"JDY\",\"JDY\",\"JDY\",\"JDY\",\"JDY\",\"JDY\",\"JDY\",\"JDY\",\"JDY\",\"JDY\",\"JDY\",\"JDY\",\"JDY\",\"JDY\",\"JDY\",\"JDY\",\"JDY\",\"JDY\",\"JDY\",\"JDY\",\"JDY\",\"JDY\",\"JDY\",\"JDY\",\"JDY\",\"JDY\",\"JDY\",\"JDY\",\"JDY\",\"JDY\",\"JDY\",\"JDY\",\"JDY\",\"JDY\",\"JDY\",\"JDY\",\"JDY\",\"JDY\",\"JDY\",\"JDY\",\"JDY\",\"JDY\",\"JDY\",\"JDY\",\"JDY\",\"JDY\",\"JDY\",\"JDY\",\"JDY\",\"JDY\",\"JDY\",\"JDY\",\"JDY\",\"JDY\",\"JDY\",\"JDY\",\"JDY\",\"JDY\",\"JDY\",\"JDY\",\"JDY\",\"JDY\",\"JDY\",\"JDY\",\"JDY\",\"JDY\",\"JDY\",\"JDY\",\"JDY\",\"JDY\",\"JDY\",\"JDY\",\"JDY\",\"JDY\",\"JDY\",\"JDY\",\"JDY\",\"JDY\",\"JDY\",\"JDY\",\"JDY\",\"JDY\",\"JDY\",\"JDY\",\"JDY\",\"JDY\",\"JDY\",\"JDY\",\"JDY\",\"JDY\",\"JDY\",\"JDY\"],\"xaxis\":\"x\",\"y\":[19.99,17.99,19.99,17.69,17.69,19.99,24.09,26.99,17.69,11.99,21.99,17.69,19.99,10.99,16.59,18.0,19.99,13.95,26.99,12.99,10.99,12.19,19.59,26.99,19.99,21.69,17.99,20.09,19.99,16.29,15.99,11.99,29.99,19.95,19.99,23.99,12.99,13.79,17.99,16.59,19.95,10.99,16.99,19.95,16.59,18.95,24.09,39.95,19.99,24.09,15.99,17.95,21.55,21.29,24.09,18.09,17.69,16.59,26.99,21.69,35.99,46.99,20.09,20.09,22.59,18.95,19.59,16.99,19.59,18.79,29.99,21.69,29.99,21.69,24.45,20.29,24.09,39.99,15.99,14.39,23.95,24.59,15.99,34.99,15.99,13.59,19.99,23.99,21.69,21.69,24.45,19.99,14.99],\"yaxis\":\"y\",\"type\":\"scatter\"},{\"hovertemplate\":\"Brand=%{x}<br>Price=%{y}<br>promo=%{marker.size}<extra></extra>\",\"legendgroup\":\"VILA\",\"marker\":{\"color\":\"#FFA15A\",\"size\":[0.0,0.0,0.0,0.0,20.0,0.0,0.0,20.0,10.0,0.0,0.0,0.0,11.0,0.0,0.0,20.0,0.0,25.0,0.0,20.0,0.0,0.0,35.0,0.0,50.0,0.0,0.0,0.0,0.0,0.0,0.0,45.0,0.0,25.0,0.0,0.0,0.0,0.0,25.0,0.0,25.0,0.0,10.0,0.0,0.0,0.0,0.0,35.0,0.0,0.0,0.0,0.0,0.0,0.0,0.0,20.0,20.0,0.0,0.0,0.0,0.0,0.0,0.0,0.0,20.0,0.0,0.0,0.0,20.0,0.0,0.0,0.0,0.0,0.0,0.0,0.0,0.0,0.0,20.0,0.0,0.0,0.0,20.0,0.0,0.0,0.0],\"sizemode\":\"area\",\"sizeref\":0.0325,\"symbol\":\"circle\"},\"mode\":\"markers\",\"name\":\"VILA\",\"orientation\":\"v\",\"showlegend\":true,\"x\":[\"VILA\",\"VILA\",\"VILA\",\"VILA\",\"VILA\",\"VILA\",\"VILA\",\"VILA\",\"VILA\",\"VILA\",\"VILA\",\"VILA\",\"VILA\",\"VILA\",\"VILA\",\"VILA\",\"VILA\",\"VILA\",\"VILA\",\"VILA\",\"VILA\",\"VILA\",\"VILA\",\"VILA\",\"VILA\",\"VILA\",\"VILA\",\"VILA\",\"VILA\",\"VILA\",\"VILA\",\"VILA\",\"VILA\",\"VILA\",\"VILA\",\"VILA\",\"VILA\",\"VILA\",\"VILA\",\"VILA\",\"VILA\",\"VILA\",\"VILA\",\"VILA\",\"VILA\",\"VILA\",\"VILA\",\"VILA\",\"VILA\",\"VILA\",\"VILA\",\"VILA\",\"VILA\",\"VILA\",\"VILA\",\"VILA\",\"VILA\",\"VILA\",\"VILA\",\"VILA\",\"VILA\",\"VILA\",\"VILA\",\"VILA\",\"VILA\",\"VILA\",\"VILA\",\"VILA\",\"VILA\",\"VILA\",\"VILA\",\"VILA\",\"VILA\",\"VILA\",\"VILA\",\"VILA\",\"VILA\",\"VILA\",\"VILA\",\"VILA\",\"VILA\",\"VILA\",\"VILA\",\"VILA\",\"VILA\",\"VILA\"],\"xaxis\":\"x\",\"y\":[27.95,27.95,31.95,29.99,18.45,36.99,47.99,23.95,35.95,31.95,29.99,27.95,23.95,44.99,27.99,31.95,39.99,22.55,24.95,27.95,39.99,34.99,24.15,29.99,19.95,35.95,34.99,39.99,59.99,24.85,31.95,30.45,21.95,26.35,39.99,27.99,41.95,59.99,26.35,44.95,26.35,24.95,35.95,29.99,39.99,39.99,27.95,25.95,31.95,29.75,27.99,15.95,15.95,44.99,29.99,23.95,19.95,23.95,21.95,30.45,27.99,41.99,19.95,36.99,31.95,27.95,26.99,41.99,23.95,29.99,39.95,49.99,39.99,49.99,37.95,36.99,39.99,27.95,23.95,11.95,26.99,36.99,27.95,39.99,39.95,29.99],\"yaxis\":\"y\",\"type\":\"scatter\"}],                        {\"template\":{\"data\":{\"barpolar\":[{\"marker\":{\"line\":{\"color\":\"rgb(17,17,17)\",\"width\":0.5},\"pattern\":{\"fillmode\":\"overlay\",\"size\":10,\"solidity\":0.2}},\"type\":\"barpolar\"}],\"bar\":[{\"error_x\":{\"color\":\"#f2f5fa\"},\"error_y\":{\"color\":\"#f2f5fa\"},\"marker\":{\"line\":{\"color\":\"rgb(17,17,17)\",\"width\":0.5},\"pattern\":{\"fillmode\":\"overlay\",\"size\":10,\"solidity\":0.2}},\"type\":\"bar\"}],\"carpet\":[{\"aaxis\":{\"endlinecolor\":\"#A2B1C6\",\"gridcolor\":\"#506784\",\"linecolor\":\"#506784\",\"minorgridcolor\":\"#506784\",\"startlinecolor\":\"#A2B1C6\"},\"baxis\":{\"endlinecolor\":\"#A2B1C6\",\"gridcolor\":\"#506784\",\"linecolor\":\"#506784\",\"minorgridcolor\":\"#506784\",\"startlinecolor\":\"#A2B1C6\"},\"type\":\"carpet\"}],\"choropleth\":[{\"colorbar\":{\"outlinewidth\":0,\"ticks\":\"\"},\"type\":\"choropleth\"}],\"contourcarpet\":[{\"colorbar\":{\"outlinewidth\":0,\"ticks\":\"\"},\"type\":\"contourcarpet\"}],\"contour\":[{\"colorbar\":{\"outlinewidth\":0,\"ticks\":\"\"},\"colorscale\":[[0.0,\"#0d0887\"],[0.1111111111111111,\"#46039f\"],[0.2222222222222222,\"#7201a8\"],[0.3333333333333333,\"#9c179e\"],[0.4444444444444444,\"#bd3786\"],[0.5555555555555556,\"#d8576b\"],[0.6666666666666666,\"#ed7953\"],[0.7777777777777778,\"#fb9f3a\"],[0.8888888888888888,\"#fdca26\"],[1.0,\"#f0f921\"]],\"type\":\"contour\"}],\"heatmapgl\":[{\"colorbar\":{\"outlinewidth\":0,\"ticks\":\"\"},\"colorscale\":[[0.0,\"#0d0887\"],[0.1111111111111111,\"#46039f\"],[0.2222222222222222,\"#7201a8\"],[0.3333333333333333,\"#9c179e\"],[0.4444444444444444,\"#bd3786\"],[0.5555555555555556,\"#d8576b\"],[0.6666666666666666,\"#ed7953\"],[0.7777777777777778,\"#fb9f3a\"],[0.8888888888888888,\"#fdca26\"],[1.0,\"#f0f921\"]],\"type\":\"heatmapgl\"}],\"heatmap\":[{\"colorbar\":{\"outlinewidth\":0,\"ticks\":\"\"},\"colorscale\":[[0.0,\"#0d0887\"],[0.1111111111111111,\"#46039f\"],[0.2222222222222222,\"#7201a8\"],[0.3333333333333333,\"#9c179e\"],[0.4444444444444444,\"#bd3786\"],[0.5555555555555556,\"#d8576b\"],[0.6666666666666666,\"#ed7953\"],[0.7777777777777778,\"#fb9f3a\"],[0.8888888888888888,\"#fdca26\"],[1.0,\"#f0f921\"]],\"type\":\"heatmap\"}],\"histogram2dcontour\":[{\"colorbar\":{\"outlinewidth\":0,\"ticks\":\"\"},\"colorscale\":[[0.0,\"#0d0887\"],[0.1111111111111111,\"#46039f\"],[0.2222222222222222,\"#7201a8\"],[0.3333333333333333,\"#9c179e\"],[0.4444444444444444,\"#bd3786\"],[0.5555555555555556,\"#d8576b\"],[0.6666666666666666,\"#ed7953\"],[0.7777777777777778,\"#fb9f3a\"],[0.8888888888888888,\"#fdca26\"],[1.0,\"#f0f921\"]],\"type\":\"histogram2dcontour\"}],\"histogram2d\":[{\"colorbar\":{\"outlinewidth\":0,\"ticks\":\"\"},\"colorscale\":[[0.0,\"#0d0887\"],[0.1111111111111111,\"#46039f\"],[0.2222222222222222,\"#7201a8\"],[0.3333333333333333,\"#9c179e\"],[0.4444444444444444,\"#bd3786\"],[0.5555555555555556,\"#d8576b\"],[0.6666666666666666,\"#ed7953\"],[0.7777777777777778,\"#fb9f3a\"],[0.8888888888888888,\"#fdca26\"],[1.0,\"#f0f921\"]],\"type\":\"histogram2d\"}],\"histogram\":[{\"marker\":{\"pattern\":{\"fillmode\":\"overlay\",\"size\":10,\"solidity\":0.2}},\"type\":\"histogram\"}],\"mesh3d\":[{\"colorbar\":{\"outlinewidth\":0,\"ticks\":\"\"},\"type\":\"mesh3d\"}],\"parcoords\":[{\"line\":{\"colorbar\":{\"outlinewidth\":0,\"ticks\":\"\"}},\"type\":\"parcoords\"}],\"pie\":[{\"automargin\":true,\"type\":\"pie\"}],\"scatter3d\":[{\"line\":{\"colorbar\":{\"outlinewidth\":0,\"ticks\":\"\"}},\"marker\":{\"colorbar\":{\"outlinewidth\":0,\"ticks\":\"\"}},\"type\":\"scatter3d\"}],\"scattercarpet\":[{\"marker\":{\"colorbar\":{\"outlinewidth\":0,\"ticks\":\"\"}},\"type\":\"scattercarpet\"}],\"scattergeo\":[{\"marker\":{\"colorbar\":{\"outlinewidth\":0,\"ticks\":\"\"}},\"type\":\"scattergeo\"}],\"scattergl\":[{\"marker\":{\"line\":{\"color\":\"#283442\"}},\"type\":\"scattergl\"}],\"scattermapbox\":[{\"marker\":{\"colorbar\":{\"outlinewidth\":0,\"ticks\":\"\"}},\"type\":\"scattermapbox\"}],\"scatterpolargl\":[{\"marker\":{\"colorbar\":{\"outlinewidth\":0,\"ticks\":\"\"}},\"type\":\"scatterpolargl\"}],\"scatterpolar\":[{\"marker\":{\"colorbar\":{\"outlinewidth\":0,\"ticks\":\"\"}},\"type\":\"scatterpolar\"}],\"scatter\":[{\"marker\":{\"line\":{\"color\":\"#283442\"}},\"type\":\"scatter\"}],\"scatterternary\":[{\"marker\":{\"colorbar\":{\"outlinewidth\":0,\"ticks\":\"\"}},\"type\":\"scatterternary\"}],\"surface\":[{\"colorbar\":{\"outlinewidth\":0,\"ticks\":\"\"},\"colorscale\":[[0.0,\"#0d0887\"],[0.1111111111111111,\"#46039f\"],[0.2222222222222222,\"#7201a8\"],[0.3333333333333333,\"#9c179e\"],[0.4444444444444444,\"#bd3786\"],[0.5555555555555556,\"#d8576b\"],[0.6666666666666666,\"#ed7953\"],[0.7777777777777778,\"#fb9f3a\"],[0.8888888888888888,\"#fdca26\"],[1.0,\"#f0f921\"]],\"type\":\"surface\"}],\"table\":[{\"cells\":{\"fill\":{\"color\":\"#506784\"},\"line\":{\"color\":\"rgb(17,17,17)\"}},\"header\":{\"fill\":{\"color\":\"#2a3f5f\"},\"line\":{\"color\":\"rgb(17,17,17)\"}},\"type\":\"table\"}]},\"layout\":{\"annotationdefaults\":{\"arrowcolor\":\"#f2f5fa\",\"arrowhead\":0,\"arrowwidth\":1},\"autotypenumbers\":\"strict\",\"coloraxis\":{\"colorbar\":{\"outlinewidth\":0,\"ticks\":\"\"}},\"colorscale\":{\"diverging\":[[0,\"#8e0152\"],[0.1,\"#c51b7d\"],[0.2,\"#de77ae\"],[0.3,\"#f1b6da\"],[0.4,\"#fde0ef\"],[0.5,\"#f7f7f7\"],[0.6,\"#e6f5d0\"],[0.7,\"#b8e186\"],[0.8,\"#7fbc41\"],[0.9,\"#4d9221\"],[1,\"#276419\"]],\"sequential\":[[0.0,\"#0d0887\"],[0.1111111111111111,\"#46039f\"],[0.2222222222222222,\"#7201a8\"],[0.3333333333333333,\"#9c179e\"],[0.4444444444444444,\"#bd3786\"],[0.5555555555555556,\"#d8576b\"],[0.6666666666666666,\"#ed7953\"],[0.7777777777777778,\"#fb9f3a\"],[0.8888888888888888,\"#fdca26\"],[1.0,\"#f0f921\"]],\"sequentialminus\":[[0.0,\"#0d0887\"],[0.1111111111111111,\"#46039f\"],[0.2222222222222222,\"#7201a8\"],[0.3333333333333333,\"#9c179e\"],[0.4444444444444444,\"#bd3786\"],[0.5555555555555556,\"#d8576b\"],[0.6666666666666666,\"#ed7953\"],[0.7777777777777778,\"#fb9f3a\"],[0.8888888888888888,\"#fdca26\"],[1.0,\"#f0f921\"]]},\"colorway\":[\"#636efa\",\"#EF553B\",\"#00cc96\",\"#ab63fa\",\"#FFA15A\",\"#19d3f3\",\"#FF6692\",\"#B6E880\",\"#FF97FF\",\"#FECB52\"],\"font\":{\"color\":\"#f2f5fa\"},\"geo\":{\"bgcolor\":\"rgb(17,17,17)\",\"lakecolor\":\"rgb(17,17,17)\",\"landcolor\":\"rgb(17,17,17)\",\"showlakes\":true,\"showland\":true,\"subunitcolor\":\"#506784\"},\"hoverlabel\":{\"align\":\"left\"},\"hovermode\":\"closest\",\"mapbox\":{\"style\":\"dark\"},\"paper_bgcolor\":\"rgb(17,17,17)\",\"plot_bgcolor\":\"rgb(17,17,17)\",\"polar\":{\"angularaxis\":{\"gridcolor\":\"#506784\",\"linecolor\":\"#506784\",\"ticks\":\"\"},\"bgcolor\":\"rgb(17,17,17)\",\"radialaxis\":{\"gridcolor\":\"#506784\",\"linecolor\":\"#506784\",\"ticks\":\"\"}},\"scene\":{\"xaxis\":{\"backgroundcolor\":\"rgb(17,17,17)\",\"gridcolor\":\"#506784\",\"gridwidth\":2,\"linecolor\":\"#506784\",\"showbackground\":true,\"ticks\":\"\",\"zerolinecolor\":\"#C8D4E3\"},\"yaxis\":{\"backgroundcolor\":\"rgb(17,17,17)\",\"gridcolor\":\"#506784\",\"gridwidth\":2,\"linecolor\":\"#506784\",\"showbackground\":true,\"ticks\":\"\",\"zerolinecolor\":\"#C8D4E3\"},\"zaxis\":{\"backgroundcolor\":\"rgb(17,17,17)\",\"gridcolor\":\"#506784\",\"gridwidth\":2,\"linecolor\":\"#506784\",\"showbackground\":true,\"ticks\":\"\",\"zerolinecolor\":\"#C8D4E3\"}},\"shapedefaults\":{\"line\":{\"color\":\"#f2f5fa\"}},\"sliderdefaults\":{\"bgcolor\":\"#C8D4E3\",\"bordercolor\":\"rgb(17,17,17)\",\"borderwidth\":1,\"tickwidth\":0},\"ternary\":{\"aaxis\":{\"gridcolor\":\"#506784\",\"linecolor\":\"#506784\",\"ticks\":\"\"},\"baxis\":{\"gridcolor\":\"#506784\",\"linecolor\":\"#506784\",\"ticks\":\"\"},\"bgcolor\":\"rgb(17,17,17)\",\"caxis\":{\"gridcolor\":\"#506784\",\"linecolor\":\"#506784\",\"ticks\":\"\"}},\"title\":{\"x\":0.05},\"updatemenudefaults\":{\"bgcolor\":\"#506784\",\"borderwidth\":0},\"xaxis\":{\"automargin\":true,\"gridcolor\":\"#283442\",\"linecolor\":\"#506784\",\"ticks\":\"\",\"title\":{\"standoff\":15},\"zerolinecolor\":\"#283442\",\"zerolinewidth\":2},\"yaxis\":{\"automargin\":true,\"gridcolor\":\"#283442\",\"linecolor\":\"#506784\",\"ticks\":\"\",\"title\":{\"standoff\":15},\"zerolinecolor\":\"#283442\",\"zerolinewidth\":2}}},\"xaxis\":{\"anchor\":\"y\",\"domain\":[0.0,1.0],\"title\":{\"text\":\"Brand\"},\"categoryorder\":\"array\",\"categoryarray\":[\"Kaffe\",\"Vero\",\"ONLY\",\"JDY\",\"VILA\"]},\"yaxis\":{\"anchor\":\"x\",\"domain\":[0.0,1.0],\"title\":{\"text\":\"Price\"}},\"legend\":{\"title\":{\"text\":\"Brand\"},\"tracegroupgap\":0,\"itemsizing\":\"constant\"},\"title\":{\"text\":\"Analysing all brands distibution prices\"},\"height\":600},                        {\"responsive\": true}                    ).then(function(){\n",
       "                            \n",
       "var gd = document.getElementById('1e404142-aa7b-481b-a8e9-7f8334a85358');\n",
       "var x = new MutationObserver(function (mutations, observer) {{\n",
       "        var display = window.getComputedStyle(gd).display;\n",
       "        if (!display || display === 'none') {{\n",
       "            console.log([gd, 'removed!']);\n",
       "            Plotly.purge(gd);\n",
       "            observer.disconnect();\n",
       "        }}\n",
       "}});\n",
       "\n",
       "// Listen for the removal of the full notebook cells\n",
       "var notebookContainer = gd.closest('#notebook-container');\n",
       "if (notebookContainer) {{\n",
       "    x.observe(notebookContainer, {childList: true});\n",
       "}}\n",
       "\n",
       "// Listen for the clearing of the current output cell\n",
       "var outputEl = gd.closest('.output');\n",
       "if (outputEl) {{\n",
       "    x.observe(outputEl, {childList: true});\n",
       "}}\n",
       "\n",
       "                        })                };                });            </script>        </div>"
      ]
     },
     "metadata": {},
     "output_type": "display_data"
    }
   ],
   "source": [
    "# function 3\n",
    "def get_fig_analyse_brands(df, product,sexe):\n",
    "    selected_df = select_products(df,product,sexe, \"all\")\n",
    "    trend_brands = get_number_products_df(selected_df).head(5)[\"mark\"].tolist()\n",
    "    final_sel_df = get_df_trendbrand(trend_brands,df,product,sexe)\n",
    "    fig1 = px.scatter(final_sel_df, \n",
    "                     x=\"mark\",\n",
    "                     y=\"finalprice\",\n",
    "                     size=\"promo\", \n",
    "                     color=\"mark\",\n",
    "                     log_x=False, \n",
    "                     size_max=40,\n",
    "                     template='plotly_dark',\n",
    "                     title=\"Analysing all brands distibution prices\",\n",
    "                     labels={\"finalprice\": \"Price\",'mark':'Brand'}, \n",
    "                     height=600,\n",
    "\n",
    "                    )\n",
    "    return fig1\n",
    "\n",
    "get_fig_analyse_brands(df, \"chemise\",\"femme\")\n"
   ]
  }
 ],
 "metadata": {
  "kernelspec": {
   "display_name": "Python 3",
   "language": "python",
   "name": "python3"
  },
  "language_info": {
   "codemirror_mode": {
    "name": "ipython",
    "version": 3
   },
   "file_extension": ".py",
   "mimetype": "text/x-python",
   "name": "python",
   "nbconvert_exporter": "python",
   "pygments_lexer": "ipython3",
   "version": "3.10.4 (tags/v3.10.4:9d38120, Mar 23 2022, 23:13:41) [MSC v.1929 64 bit (AMD64)]"
  },
  "vscode": {
   "interpreter": {
    "hash": "876db7d3f8682b7e4c5477e5f1e2dc2bd1b19fe05d9aabd59218369070754b39"
   }
  }
 },
 "nbformat": 4,
 "nbformat_minor": 5
}
