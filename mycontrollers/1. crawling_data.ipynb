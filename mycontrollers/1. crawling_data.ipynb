{
 "cells": [
  {
   "cell_type": "code",
   "execution_count": 2,
   "id": "0190a683-c2df-4513-ba88-4b14011d54ae",
   "metadata": {},
   "outputs": [],
   "source": [
    "import requests\n",
    "from bs4 import BeautifulSoup\n",
    "from selenium import webdriver\n",
    "from selenium.webdriver.common.by import By\n",
    "import pandas as pd\n",
    "import re\n",
    "import json\n"
   ]
  },
  {
   "cell_type": "code",
   "execution_count": 18,
   "id": "f4c58756-d326-4110-a887-8c2e8d82067a",
   "metadata": {},
   "outputs": [],
   "source": [
    "def collecte_products(data_collected,prods,sexe,request):\n",
    "    for prod in prods: \n",
    "            txt = [p.text.split() for p in prod.find_all(\"h3\")]\n",
    "            prices = [p.text for p in prod.find_all(\"p\")]\n",
    "            finalprice = \"\"\n",
    "            originprice = \"\"\n",
    "            promo = \"\"\n",
    "            if prices:\n",
    "                    finalprice = \",\".join(re.findall( r'\\d+', prices[0]))\n",
    "                    if len(prices) == 2 :\n",
    "                        calcul = [p.text.split(\"-\") for p in prod.find_all(\"p\")][1]\n",
    "                        originprice = \",\".join(re.findall( r'\\d+', calcul[0]))\n",
    "                        if len(calcul) == 2 :\n",
    "                            promo = \",\".join(re.findall( r'\\d+', calcul[1]))    \n",
    "\n",
    "            if len(txt) == 2 :\n",
    "                if originprice == \"\" :\n",
    "                    originprice = finalprice\n",
    "                    promo = 0\n",
    "                data_collected.append({    \"sexe\" : sexe,\n",
    "                                           \"product\": request,\n",
    "                                           \"mark\":txt[0][0],\n",
    "                                           \"description\":\" \".join(txt[1]),\n",
    "                                           \"finalprice\": finalprice,\n",
    "                                           \"originprice\": originprice ,\n",
    "                                           \"promo\": promo,\n",
    "                                           \"picture\": [img[\"src\"] for img in prod.find_all(\"img\")]})\n",
    "    return data_collected\n",
    "\n",
    "\n",
    "def get_data_products (driver,request,sexe) :\n",
    "    data_collected = []\n",
    "    url = \"https://www.zalando.fr/\"+sexe+\"/?q=\"+request\n",
    "    print(url)\n",
    "    driver.get(url)\n",
    "    soup = BeautifulSoup(driver.page_source, 'lxml')\n",
    "    max_page = int(soup.find(\"span\",\"_0Qm8W1 _7Cm1F9 FxZV-M pVrzNP JCuRr_ _0xLoFW uEg2FS FCIprz\").text.split()[-1])\n",
    "    for page in range(1,60,1) :\n",
    "        driver.get(\"https://www.zalando.fr/catalogue/?q=\"+request+ \"&p=\" + str(page))\n",
    "        soup = BeautifulSoup(driver.page_source, 'lxml')\n",
    "        prods = soup.find_all('article')\n",
    "        collecte_products(data_collected,prods,sexe,request)\n",
    "    path_json = \"data_result_\"+sexe+\"_\"+request+\".json\"\n",
    "    with open(path_json, 'w') as f:\n",
    "        json.dump(data_collected, f)\n",
    "    return data_collected\n",
    "\n",
    "\n"
   ]
  },
  {
   "cell_type": "code",
   "execution_count": null,
   "id": "19849153-194e-4aae-b7e3-6df530203693",
   "metadata": {},
   "outputs": [],
   "source": [
    "driver = webdriver.Firefox()\n",
    "data_collected = get_data_products (driver,\"tshirt\",\"homme\")"
   ]
  },
  {
   "cell_type": "code",
   "execution_count": null,
   "id": "bf39aaeb-a5d1-468c-9690-4a5c6b3a273f",
   "metadata": {},
   "outputs": [],
   "source": [
    "driver = webdriver.Firefox()\n",
    "data_collected = get_data_products (driver,\"tshirt\",\"femme\")"
   ]
  },
  {
   "cell_type": "code",
   "execution_count": null,
   "id": "52de1b32-75dc-4362-a4c2-d50cfe051454",
   "metadata": {},
   "outputs": [],
   "source": []
  },
  {
   "cell_type": "code",
   "execution_count": null,
   "id": "c1448237-f23b-4b00-bd26-4e32312b61a9",
   "metadata": {},
   "outputs": [
    {
     "name": "stdout",
     "output_type": "stream",
     "text": [
      "https://www.zalando.fr/homme/?q=jeans\n"
     ]
    }
   ],
   "source": [
    "driver = webdriver.Firefox()\n",
    "data_collected = get_data_products (driver,\"jeans\",\"homme\")"
   ]
  },
  {
   "cell_type": "code",
   "execution_count": 9,
   "id": "846ae516-2c53-498f-80bb-adbc2cec220e",
   "metadata": {},
   "outputs": [
    {
     "name": "stdout",
     "output_type": "stream",
     "text": [
      "https://www.zalando.fr/femme/?q=jeans\n"
     ]
    }
   ],
   "source": [
    "driver = webdriver.Firefox()\n",
    "data_collected = get_data_products (driver,\"jeans\",\"femme\")"
   ]
  },
  {
   "cell_type": "code",
   "execution_count": null,
   "id": "fef956fc-e1c7-480d-9b03-4bbe6d4ad903",
   "metadata": {},
   "outputs": [],
   "source": []
  },
  {
   "cell_type": "code",
   "execution_count": 10,
   "id": "6f1623d9-659c-444b-85a9-472794da6f57",
   "metadata": {},
   "outputs": [
    {
     "name": "stdout",
     "output_type": "stream",
     "text": [
      "https://www.zalando.fr/homme/?q=pentalon\n"
     ]
    }
   ],
   "source": [
    "driver = webdriver.Firefox()\n",
    "data_collected = get_data_products (driver,\"pentalon\",\"homme\")"
   ]
  },
  {
   "cell_type": "code",
   "execution_count": 11,
   "id": "dd976ab6-fea9-4866-9cc5-9eb894bf8538",
   "metadata": {},
   "outputs": [
    {
     "name": "stdout",
     "output_type": "stream",
     "text": [
      "https://www.zalando.fr/femme/?q=pentalon\n"
     ]
    }
   ],
   "source": [
    "driver = webdriver.Firefox()\n",
    "data_collected = get_data_products (driver,\"pentalon\",\"femme\")"
   ]
  },
  {
   "cell_type": "code",
   "execution_count": null,
   "id": "a060136c-3758-466f-92ee-06d0f96eb22a",
   "metadata": {},
   "outputs": [],
   "source": []
  },
  {
   "cell_type": "code",
   "execution_count": 12,
   "id": "2edfb710-1f25-4a74-8ee7-7a29ec2bcf7d",
   "metadata": {},
   "outputs": [
    {
     "name": "stdout",
     "output_type": "stream",
     "text": [
      "https://www.zalando.fr/homme/?q=chemise\n"
     ]
    }
   ],
   "source": [
    "driver = webdriver.Firefox()\n",
    "data_collected = get_data_products (driver,\"chemise\",\"homme\")"
   ]
  },
  {
   "cell_type": "code",
   "execution_count": 13,
   "id": "0f3487d5-09cf-4896-9fdc-d9db767d4b2d",
   "metadata": {},
   "outputs": [
    {
     "name": "stdout",
     "output_type": "stream",
     "text": [
      "https://www.zalando.fr/femme/?q=chemise\n"
     ]
    }
   ],
   "source": [
    "driver = webdriver.Firefox()\n",
    "data_collected = get_data_products (driver,\"chemise\",\"femme\")"
   ]
  },
  {
   "cell_type": "code",
   "execution_count": null,
   "id": "8dda2e8f-4ffb-4eeb-afff-17f4ba39670f",
   "metadata": {},
   "outputs": [],
   "source": []
  },
  {
   "cell_type": "code",
   "execution_count": 16,
   "id": "1fccd9b7-a0b7-4702-b7ab-7550d6cb318c",
   "metadata": {},
   "outputs": [
    {
     "name": "stdout",
     "output_type": "stream",
     "text": [
      "https://www.zalando.fr/homme/?q=short\n"
     ]
    }
   ],
   "source": [
    "driver = webdriver.Firefox()\n",
    "data_collected = get_data_products (driver,\"short\",\"homme\")"
   ]
  },
  {
   "cell_type": "code",
   "execution_count": 17,
   "id": "8959e695-502d-4866-8483-4d814c62b1ff",
   "metadata": {},
   "outputs": [
    {
     "name": "stdout",
     "output_type": "stream",
     "text": [
      "https://www.zalando.fr/femme/?q=short\n"
     ]
    }
   ],
   "source": [
    "driver = webdriver.Firefox()\n",
    "data_collected = get_data_products (driver,\"short\",\"femme\")"
   ]
  },
  {
   "cell_type": "code",
   "execution_count": null,
   "id": "b3f752b2-088f-4239-b3da-b886eb372267",
   "metadata": {},
   "outputs": [],
   "source": []
  },
  {
   "cell_type": "code",
   "execution_count": 79,
   "id": "0eb553d3-b9e0-4811-91f6-c43a99281089",
   "metadata": {},
   "outputs": [],
   "source": [
    "# 17734\n",
    "d1 = pd.read_json(\"data_result_homme_tshirt.json\")\n",
    "\n",
    "# 3223\n",
    "d2 = pd.read_json(\"data_result_femme_tshirt.json\")\n",
    "\n",
    "# 2617\n",
    "d3 = pd.read_json(\"data_result_homme_pentalon.json\")\n",
    "\n",
    "# 1834\n",
    "d4 = pd.read_json(\"data_result_femme_pentalon.json\")\n",
    "\n",
    "# 1923\n",
    "d5 = pd.read_json(\"data_result_homme_chemise.json\")\n",
    "\n",
    "# 1965\n",
    "d6 = pd.read_json(\"data_result_femme_chemise.json\")\n",
    "\n",
    "# 2459\n",
    "d7 = pd.read_json(\"data_result_homme_short.json\")\n",
    "\n",
    "# 3294\n",
    "d8 = pd.read_json(\"data_result_femme_short.json\")\n",
    "\n",
    "# 2113\n",
    "d9 = pd.read_json(\"data_result_homme_jeans.json\")\n",
    "\n",
    "# 2042\n",
    "d10 = pd.read_json(\"data_result_femme_jeans.json\")"
   ]
  },
  {
   "cell_type": "code",
   "execution_count": null,
   "id": "802d0077-09cf-4dbe-8428-5497465d48fa",
   "metadata": {},
   "outputs": [],
   "source": [
    "df_result = pd.concat([d1,d2,d3,d4,d5,d6,d7,d8,d9,d10], axis=0)\n",
    "df_result"
   ]
  },
  {
   "cell_type": "code",
   "execution_count": 8,
   "id": "acdcfcd1-51a4-41ea-a778-3950ce575cbd",
   "metadata": {},
   "outputs": [],
   "source": [
    "# RESET INDEX OF ROWS\n",
    "df_result = df_result.reset_index()\n"
   ]
  },
  {
   "cell_type": "code",
   "execution_count": 83,
   "id": "de6b39cc-eb3f-4b6b-a0af-786bb36084b9",
   "metadata": {},
   "outputs": [],
   "source": [
    "# Treat links\n",
    "df_result['picture'] = df_result['picture'].apply(lambda x: x[0])\n"
   ]
  },
  {
   "cell_type": "code",
   "execution_count": 12,
   "id": "8dd8efb8-b400-4ae3-8ead-8cfd121d82e0",
   "metadata": {},
   "outputs": [],
   "source": [
    "# Delete deplucate rows\n",
    "df_result = df_result.drop_duplicates()\n"
   ]
  },
  {
   "cell_type": "code",
   "execution_count": 13,
   "id": "f59fc170-25b7-4e5c-89fb-3e28ba4ad686",
   "metadata": {},
   "outputs": [
    {
     "data": {
      "text/plain": [
       "39204"
      ]
     },
     "execution_count": 13,
     "metadata": {},
     "output_type": "execute_result"
    }
   ],
   "source": [
    "# Nombre de toutes les produits\n",
    "len(df_result)"
   ]
  },
  {
   "cell_type": "code",
   "execution_count": null,
   "id": "5e9551c1-3ef0-42c0-8132-975614fab6fe",
   "metadata": {},
   "outputs": [],
   "source": []
  },
  {
   "cell_type": "code",
   "execution_count": 17,
   "id": "51be8d02-67d2-4989-bce5-d4f4534571db",
   "metadata": {},
   "outputs": [],
   "source": [
    "# pre processing  \n",
    "def treat_finalprice(x):\n",
    "    x = x.replace(\",\" , \".\")\n",
    "    float_regex = \"[-+]?[0-9]*\\.?[0-9]*\"\n",
    "    match = re.findall(float_regex, x)\n",
    "    if match[0] != \"\":\n",
    "        x = float(match[0])\n",
    "    return x\n",
    "\n",
    "def treating_prices(df):\n",
    "    df['finalprice'] = df['finalprice'].apply(lambda x: treat_finalprice(x))\n",
    "    df['originprice'] = df['originprice'].apply(lambda x: treat_finalprice(x))\n",
    "    return df\n",
    "\n",
    "def get_dataframe(path):\n",
    "    df = pd.read_csv(path)\n",
    "    df = df[['product', 'picture','sexe','mark', 'description','finalprice', 'originprice', 'promo',]]\n",
    "    df = treating_prices(df)\n",
    "    return df"
   ]
  },
  {
   "cell_type": "code",
   "execution_count": 18,
   "id": "e767e3ad-e4be-4494-8e0a-a6e049547589",
   "metadata": {},
   "outputs": [],
   "source": [
    "path = \"all_data_result_final.csv\"\n",
    "df_result = pd.read_csv(path)"
   ]
  },
  {
   "cell_type": "code",
   "execution_count": 4,
   "id": "6a55d429-4ec4-4fe9-898c-c6128861212c",
   "metadata": {},
   "outputs": [],
   "source": [
    "# path = \"all_data_result_final.csv\"\n",
    "# df.to_csv(path)"
   ]
  }
 ],
 "metadata": {
  "kernelspec": {
   "display_name": "Python 3 (ipykernel)",
   "language": "python",
   "name": "python3"
  },
  "language_info": {
   "codemirror_mode": {
    "name": "ipython",
    "version": 3
   },
   "file_extension": ".py",
   "mimetype": "text/x-python",
   "name": "python",
   "nbconvert_exporter": "python",
   "pygments_lexer": "ipython3",
   "version": "3.10.4 (tags/v3.10.4:9d38120, Mar 23 2022, 23:13:41) [MSC v.1929 64 bit (AMD64)]"
  },
  "vscode": {
   "interpreter": {
    "hash": "876db7d3f8682b7e4c5477e5f1e2dc2bd1b19fe05d9aabd59218369070754b39"
   }
  }
 },
 "nbformat": 4,
 "nbformat_minor": 5
}
